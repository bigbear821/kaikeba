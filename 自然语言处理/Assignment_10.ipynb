{
 "cells": [
  {
   "cell_type": "markdown",
   "metadata": {},
   "source": [
    "# Assignment 10"
   ]
  },
  {
   "cell_type": "markdown",
   "metadata": {},
   "source": [
    "### 1.复习上课内容"
   ]
  },
  {
   "cell_type": "markdown",
   "metadata": {},
   "source": [
    "### 2. 回答一下理论题目"
   ]
  },
  {
   "cell_type": "markdown",
   "metadata": {},
   "source": [
    "#### 1. What is independent assumption in Naive bayes ?"
   ]
  },
  {
   "cell_type": "markdown",
   "metadata": {},
   "source": [
    "在计算条件概率P(X|Y)时，当Y是固定值，X的各个分量的取值相互独立。"
   ]
  },
  {
   "cell_type": "markdown",
   "metadata": {},
   "source": [
    "#### 2. What is MAP(maximum a posterior) and ML(maximum likelihood) ?"
   ]
  },
  {
   "cell_type": "markdown",
   "metadata": {},
   "source": [
    "最大后验概率：AB两类事件有相关性。A事件难以观测，B事件容易观测。当Bi事件发生时，要计算此时A事件中哪个事件发生的概率最大，就是求最大后验概率。  \n",
    "最大似然估计：最大似然估计是最大后验概率的简化版本。它假设上述的A类事件集中的各个Ai事件都是等概率发生的。计算B事件发生时A类事件中哪个事件发生的概率最大。"
   ]
  },
  {
   "cell_type": "markdown",
   "metadata": {},
   "source": [
    "#### 3. What is support vector in SVM?"
   ]
  },
  {
   "cell_type": "markdown",
   "metadata": {},
   "source": [
    "落在间隔边界上的正类和负类样本称谓支持向量。"
   ]
  },
  {
   "cell_type": "markdown",
   "metadata": {},
   "source": [
    "#### 4. What is the intuition behind SVM ?"
   ]
  },
  {
   "cell_type": "markdown",
   "metadata": {},
   "source": [
    "SVM的目标是二分类，通过找到穿过支持向量的正类和父类的间隔边界线（超平面），并且这两条线（超平面）平行，且要这两条平行线（超平面）距离最大。然后分类问题就转为优化问题。"
   ]
  },
  {
   "cell_type": "markdown",
   "metadata": {},
   "source": [
    "#### 5. Shortly describ what 'random' means in random forest ?"
   ]
  },
  {
   "cell_type": "markdown",
   "metadata": {},
   "source": [
    "随机森林是“随机”从样本中采样，然后生成决策树。这样重复多次，生成许多决策树。分类时，让这些决策数各自决策，然后少数服从多数，获得答案。"
   ]
  },
  {
   "cell_type": "markdown",
   "metadata": {},
   "source": [
    "#### 6. What cariterion does XGBoost use to find the best split point in a tree ?"
   ]
  },
  {
   "cell_type": "markdown",
   "metadata": {},
   "source": [
    "遍历每个特征，在每个特征中选择该特征下的每个值作为其分裂点，计算增益损失。当遍历完所有特征之后，增益损失最大的特征值将作为其分裂点。"
   ]
  },
  {
   "cell_type": "markdown",
   "metadata": {},
   "source": [
    "### 3. Practial part"
   ]
  },
  {
   "cell_type": "markdown",
   "metadata": {},
   "source": [
    "##### Problem description: In this part you are going to build a classifier to detect if a piece of news is published by the Xinhua news agency (新华社）."
   ]
  },
  {
   "cell_type": "markdown",
   "metadata": {},
   "source": [
    "#### Hints:"
   ]
  },
  {
   "cell_type": "markdown",
   "metadata": {},
   "source": [
    "###### 1. Firstly, you have to come up with a way to represent the news. (Vectorize the sentence, you can find different ways to do so online)  "
   ]
  },
  {
   "cell_type": "markdown",
   "metadata": {},
   "source": [
    "###### 2. Secondly,  pick a machine learning algorithm that you think is suitable for this task"
   ]
  },
  {
   "cell_type": "markdown",
   "metadata": {},
   "source": [
    "## 使用“新华社数据.csv”中的'content'列作为输入，'source'作为标签（按是否为新华社的稿子分为1、0标签）"
   ]
  },
  {
   "cell_type": "code",
   "execution_count": 30,
   "metadata": {},
   "outputs": [],
   "source": [
    "import pandas as pd\n",
    "import numpy as np"
   ]
  },
  {
   "cell_type": "code",
   "execution_count": 8,
   "metadata": {},
   "outputs": [],
   "source": [
    "df = pd.read_csv('新华社数据.csv', engine='python')"
   ]
  },
  {
   "cell_type": "code",
   "execution_count": 9,
   "metadata": {},
   "outputs": [
    {
     "data": {
      "text/html": [
       "<div>\n",
       "<style scoped>\n",
       "    .dataframe tbody tr th:only-of-type {\n",
       "        vertical-align: middle;\n",
       "    }\n",
       "\n",
       "    .dataframe tbody tr th {\n",
       "        vertical-align: top;\n",
       "    }\n",
       "\n",
       "    .dataframe thead th {\n",
       "        text-align: right;\n",
       "    }\n",
       "</style>\n",
       "<table border=\"1\" class=\"dataframe\">\n",
       "  <thead>\n",
       "    <tr style=\"text-align: right;\">\n",
       "      <th></th>\n",
       "      <th>id</th>\n",
       "      <th>author</th>\n",
       "      <th>source</th>\n",
       "      <th>content</th>\n",
       "      <th>feature</th>\n",
       "      <th>title</th>\n",
       "      <th>url</th>\n",
       "    </tr>\n",
       "  </thead>\n",
       "  <tbody>\n",
       "    <tr>\n",
       "      <th>0</th>\n",
       "      <td>89617</td>\n",
       "      <td>NaN</td>\n",
       "      <td>快科技@http://www.kkj.cn/</td>\n",
       "      <td>此外，自本周（6月12日）起，除小米手机6等15款机型外，其余机型已暂停更新发布（含开发版/...</td>\n",
       "      <td>{\"type\":\"科技\",\"site\":\"cnbeta\",\"commentNum\":\"37\"...</td>\n",
       "      <td>小米MIUI 9首批机型曝光：共计15款</td>\n",
       "      <td>http://www.cnbeta.com/articles/tech/623597.htm</td>\n",
       "    </tr>\n",
       "    <tr>\n",
       "      <th>1</th>\n",
       "      <td>89616</td>\n",
       "      <td>NaN</td>\n",
       "      <td>快科技@http://www.kkj.cn/</td>\n",
       "      <td>骁龙835作为唯一通过Windows 10桌面平台认证的ARM处理器，高通强调，不会因为只考...</td>\n",
       "      <td>{\"type\":\"科技\",\"site\":\"cnbeta\",\"commentNum\":\"15\"...</td>\n",
       "      <td>骁龙835在Windows 10上的性能表现有望改善</td>\n",
       "      <td>http://www.cnbeta.com/articles/tech/623599.htm</td>\n",
       "    </tr>\n",
       "    <tr>\n",
       "      <th>2</th>\n",
       "      <td>89615</td>\n",
       "      <td>NaN</td>\n",
       "      <td>快科技@http://www.kkj.cn/</td>\n",
       "      <td>此前的一加3T搭载的是3400mAh电池，DashCharge快充规格为5V/4A。\\n至于...</td>\n",
       "      <td>{\"type\":\"科技\",\"site\":\"cnbeta\",\"commentNum\":\"18\"...</td>\n",
       "      <td>一加手机5细节曝光：3300mAh、充半小时用1天</td>\n",
       "      <td>http://www.cnbeta.com/articles/tech/623601.htm</td>\n",
       "    </tr>\n",
       "    <tr>\n",
       "      <th>3</th>\n",
       "      <td>89614</td>\n",
       "      <td>NaN</td>\n",
       "      <td>新华社</td>\n",
       "      <td>这是6月18日在葡萄牙中部大佩德罗冈地区拍摄的被森林大火烧毁的汽车。新华社记者张立云摄\\n</td>\n",
       "      <td>{\"type\":\"国际新闻\",\"site\":\"环球\",\"commentNum\":\"0\",\"j...</td>\n",
       "      <td>葡森林火灾造成至少62人死亡 政府宣布进入紧急状态（组图）</td>\n",
       "      <td>http://world.huanqiu.com/hot/2017-06/10866126....</td>\n",
       "    </tr>\n",
       "    <tr>\n",
       "      <th>4</th>\n",
       "      <td>89613</td>\n",
       "      <td>胡淑丽_MN7479</td>\n",
       "      <td>深圳大件事</td>\n",
       "      <td>（原标题：44岁女子跑深圳约会网友被拒，暴雨中裸身奔走……）\\n@深圳交警微博称：昨日清晨交...</td>\n",
       "      <td>{\"type\":\"新闻\",\"site\":\"网易热门\",\"commentNum\":\"978\",...</td>\n",
       "      <td>44岁女子约网友被拒暴雨中裸奔 交警为其披衣相随</td>\n",
       "      <td>http://news.163.com/17/0618/00/CN617P3Q0001875...</td>\n",
       "    </tr>\n",
       "    <tr>\n",
       "      <th>5</th>\n",
       "      <td>89612</td>\n",
       "      <td>张怡</td>\n",
       "      <td>中国证券报?中证网</td>\n",
       "      <td>受到A股被纳入MSCI指数的利好消息刺激，A股市场从周三开始再度上演龙马行情，周四上午金...</td>\n",
       "      <td>{\"type\":\"市场\",\"site\":\"中证网\",\"commentNum\":\"0\",\"jo...</td>\n",
       "      <td>金融股一枝独秀 配置价值犹存</td>\n",
       "      <td>http://www.cs.com.cn/gppd/201706/t20170623_533...</td>\n",
       "    </tr>\n",
       "    <tr>\n",
       "      <th>6</th>\n",
       "      <td>89611</td>\n",
       "      <td>NaN</td>\n",
       "      <td>威锋网@http://www.feng.com/</td>\n",
       "      <td>虽然至今夏普智能手机在市场上无法排得上号，已经完全没落，并于 2013 年退出中国市场，但是...</td>\n",
       "      <td>{\"type\":\"科技\",\"site\":\"cnbeta\",\"commentNum\":\"21\"...</td>\n",
       "      <td>配骁龙660 全面屏鼻祖夏普新机酝酿中</td>\n",
       "      <td>http://www.cnbeta.com/articles/tech/623603.htm</td>\n",
       "    </tr>\n",
       "    <tr>\n",
       "      <th>7</th>\n",
       "      <td>89610</td>\n",
       "      <td>申玉彬 整理</td>\n",
       "      <td>中国证券报?中证网</td>\n",
       "      <td>沙漠雄鹰：震荡有利消化套牢筹码\\n　　周四开盘上证50在银行券商大蓝筹带动下一度涨近2%...</td>\n",
       "      <td>{\"type\":\"市场\",\"site\":\"中证网\",\"commentNum\":\"0\",\"jo...</td>\n",
       "      <td>博友早评：震荡有利消化套牢筹码</td>\n",
       "      <td>http://www.cs.com.cn/gppd/201706/t20170623_533...</td>\n",
       "    </tr>\n",
       "    <tr>\n",
       "      <th>8</th>\n",
       "      <td>89609</td>\n",
       "      <td>李杭_BJS4645</td>\n",
       "      <td>荆楚网-楚天都市报</td>\n",
       "      <td>（原标题：武汉警方一下子抓了808人，还都是俊男靓女！原来他们每天偷偷摸摸干这事！）\\n武汉...</td>\n",
       "      <td>{\"type\":\"新闻\",\"site\":\"网易热门\",\"commentNum\":\"1600\"...</td>\n",
       "      <td>武汉千余警察出动 抓获808名俊男靓女全是诈骗犯</td>\n",
       "      <td>http://news.163.com/17/0614/14/CMT9N8G80001899...</td>\n",
       "    </tr>\n",
       "    <tr>\n",
       "      <th>9</th>\n",
       "      <td>89608</td>\n",
       "      <td>吴瞬</td>\n",
       "      <td>中国证券报?中证网</td>\n",
       "      <td>6月21日，A股纳入MSCI指数尘埃落定，但当天被寄予厚望的券商股并未扛起反弹大旗。22...</td>\n",
       "      <td>{\"type\":\"市场\",\"site\":\"中证网\",\"commentNum\":\"0\",\"jo...</td>\n",
       "      <td>纳入MSCI指数 A股长期配置价值提升</td>\n",
       "      <td>http://www.cs.com.cn/gppd/201706/t20170623_533...</td>\n",
       "    </tr>\n",
       "    <tr>\n",
       "      <th>10</th>\n",
       "      <td>89607</td>\n",
       "      <td>NaN</td>\n",
       "      <td>证券时报网</td>\n",
       "      <td>证券时报网（www.stcn.com）06月23日讯\\n　　据上证报道，6月初以来，创业...</td>\n",
       "      <td>{\"type\":\"市场\",\"site\":\"中证网\",\"commentNum\":\"0\",\"jo...</td>\n",
       "      <td>私募：蓝筹风格难切换 业绩估值相配是王道</td>\n",
       "      <td>http://www.cs.com.cn/gppd/201706/t20170623_533...</td>\n",
       "    </tr>\n",
       "    <tr>\n",
       "      <th>11</th>\n",
       "      <td>89606</td>\n",
       "      <td>NaN</td>\n",
       "      <td>证券时报网</td>\n",
       "      <td>?\\n　　巨丰早评：市场将再次探底\\n　　【巨丰观点】\\n　　周四大盘冲高回落，2500余只...</td>\n",
       "      <td>{\"type\":\"市场\",\"site\":\"中证网\",\"commentNum\":\"0\",\"jo...</td>\n",
       "      <td>早间机构看市：市场将再次探底 两类股逢低布局</td>\n",
       "      <td>http://www.cs.com.cn/gppd/201706/t20170623_533...</td>\n",
       "    </tr>\n",
       "    <tr>\n",
       "      <th>12</th>\n",
       "      <td>89605</td>\n",
       "      <td>NaN</td>\n",
       "      <td>中国新闻网</td>\n",
       "      <td>中新网6月19日电 据外媒报道，美国底特律一名男子1976年因为一根头发被定谋杀罪，监禁41...</td>\n",
       "      <td>{\"type\":\"国际新闻\",\"site\":\"环球\",\"commentNum\":\"0\",\"j...</td>\n",
       "      <td>因为犯罪现场的一根头发，他坐冤狱41年后终获释</td>\n",
       "      <td>http://world.huanqiu.com/hot/2017-06/10866136....</td>\n",
       "    </tr>\n",
       "    <tr>\n",
       "      <th>13</th>\n",
       "      <td>89604</td>\n",
       "      <td>申玉彬 整理</td>\n",
       "      <td>中国证券报?中证网</td>\n",
       "      <td>曹先生：风格转换前的阵痛\\n　　今日早盘两地低开，之后一度震荡走高，领涨的仍然是上证50...</td>\n",
       "      <td>{\"type\":\"市场\",\"site\":\"中证网\",\"commentNum\":\"0\",\"jo...</td>\n",
       "      <td>博友午评：风格转换前的阵痛</td>\n",
       "      <td>http://www.cs.com.cn/gppd/201706/t20170623_533...</td>\n",
       "    </tr>\n",
       "    <tr>\n",
       "      <th>14</th>\n",
       "      <td>89603</td>\n",
       "      <td>NaN</td>\n",
       "      <td>国际在线</td>\n",
       "      <td>6月21日，MSCI在官网发布公告称，从明年6月起将中国A股纳入MSCI新兴市场指数和MSC...</td>\n",
       "      <td>{\"type\":\"观点滚动\",\"site\":\"参考消息\",\"commentNum\":\"0\",...</td>\n",
       "      <td>MSCI闯关成功会是A股的一针强心剂吗？</td>\n",
       "      <td>http://column.cankaoxiaoxi.com/plgd/2017/0623/...</td>\n",
       "    </tr>\n",
       "    <tr>\n",
       "      <th>15</th>\n",
       "      <td>89602</td>\n",
       "      <td>费天元</td>\n",
       "      <td>中国证券网</td>\n",
       "      <td>中国证券网讯（记者 费天元）沪深两市周五临近午盘出现快速跳水，沪指连续跌穿5日、10日及...</td>\n",
       "      <td>{\"type\":\"市场\",\"site\":\"中证网\",\"commentNum\":\"0\",\"jo...</td>\n",
       "      <td>地产股拉升难阻市场颓势 三大指数早盘集体跳水</td>\n",
       "      <td>http://www.cs.com.cn/gppd/201706/t20170623_533...</td>\n",
       "    </tr>\n",
       "    <tr>\n",
       "      <th>16</th>\n",
       "      <td>89601</td>\n",
       "      <td>NaN</td>\n",
       "      <td>solidot@</td>\n",
       "      <td>九成以上的源包用逐位对应的方式构建，未来版本的 Debian 还将提供验证包的工具和元数据；...</td>\n",
       "      <td>{\"type\":\"软件\",\"site\":\"cnbeta\",\"commentNum\":\"12\"...</td>\n",
       "      <td>Debian 9 Stretch 发布</td>\n",
       "      <td>http://www.cnbeta.com/articles/soft/623605.htm</td>\n",
       "    </tr>\n",
       "    <tr>\n",
       "      <th>17</th>\n",
       "      <td>89600</td>\n",
       "      <td>NaN</td>\n",
       "      <td>新华网</td>\n",
       "      <td>国歌法草案首次提请最高立法机关审议\\n点击图片进入下一页\\n新闻：十二届全国人大常委会第二十...</td>\n",
       "      <td>{\"type\":\"观点滚动\",\"site\":\"参考消息\",\"commentNum\":\"0\",...</td>\n",
       "      <td>[及时点]我们不需要“百变老太太”</td>\n",
       "      <td>http://column.cankaoxiaoxi.com/plgd/2017/0623/...</td>\n",
       "    </tr>\n",
       "    <tr>\n",
       "      <th>18</th>\n",
       "      <td>89599</td>\n",
       "      <td>张怡</td>\n",
       "      <td>中国证券报?中证网</td>\n",
       "      <td>中证网讯 （本报记者 张怡）今日，三板做市指数继续低开下行，盘中最低触及1057.91点...</td>\n",
       "      <td>{\"type\":\"市场\",\"site\":\"中证网\",\"commentNum\":\"0\",\"jo...</td>\n",
       "      <td>新三板午评：三板做市指数刷新阶段低点</td>\n",
       "      <td>http://www.cs.com.cn/gppd/201706/t20170623_533...</td>\n",
       "    </tr>\n",
       "    <tr>\n",
       "      <th>19</th>\n",
       "      <td>89598</td>\n",
       "      <td>周佳 整理</td>\n",
       "      <td>中国证券报?中证网</td>\n",
       "      <td>提示声明：\\n　　本文涉及的行业及个股分析来源于券商研究报告，仅为分析人士对该行业及个股...</td>\n",
       "      <td>{\"type\":\"市场\",\"site\":\"中证网\",\"commentNum\":\"0\",\"jo...</td>\n",
       "      <td>机构解析：下周热点板块及个股探秘（附股）</td>\n",
       "      <td>http://www.cs.com.cn/gppd/hyyj/201706/t2017062...</td>\n",
       "    </tr>\n",
       "    <tr>\n",
       "      <th>20</th>\n",
       "      <td>89597</td>\n",
       "      <td>NaN</td>\n",
       "      <td>泡泡网</td>\n",
       "      <td>原标题：叙利亚被“袭机”事件惹怒俄罗斯 警告将瞄准美战机\\n　　海外网6月19日电 当地...</td>\n",
       "      <td>{\"type\":\"军事\",\"site\":\"新浪\",\"commentNum\":\" 95\",\"j...</td>\n",
       "      <td>美军击落叙战机激怒俄罗斯 俄警告将瞄准美军战机</td>\n",
       "      <td>http://mil.news.sina.com.cn/world/2017-06-20/d...</td>\n",
       "    </tr>\n",
       "    <tr>\n",
       "      <th>21</th>\n",
       "      <td>89596</td>\n",
       "      <td>周佳 整理</td>\n",
       "      <td>中国证券报?中证网</td>\n",
       "      <td>提示声明：\\n　　本文涉及的行业及个股分析来源于券商研究报告，仅为分析人士对该行业及个股...</td>\n",
       "      <td>{\"type\":\"市场\",\"site\":\"中证网\",\"commentNum\":\"0\",\"jo...</td>\n",
       "      <td>机构推荐：下周具备布局潜力金股</td>\n",
       "      <td>http://www.cs.com.cn/gppd/tzpj/201706/t2017062...</td>\n",
       "    </tr>\n",
       "    <tr>\n",
       "      <th>22</th>\n",
       "      <td>89595</td>\n",
       "      <td>NaN</td>\n",
       "      <td>威锋网@http://www.feng.com/</td>\n",
       "      <td>就在这几天，一位微博名为“摩卡 RQ ”的手机、芯片、移动互联网三界知名独立评论人爆料称，O...</td>\n",
       "      <td>{\"type\":\"科技\",\"site\":\"cnbeta\",\"commentNum\":\"56\"...</td>\n",
       "      <td>业内人士解释为什么OPPO供货能力强无敌</td>\n",
       "      <td>http://www.cnbeta.com/articles/tech/623607.htm</td>\n",
       "    </tr>\n",
       "    <tr>\n",
       "      <th>23</th>\n",
       "      <td>89594</td>\n",
       "      <td>张怡</td>\n",
       "      <td>中国证券报?中证网</td>\n",
       "      <td>中证网讯 （本报记者 张怡）与此前两日蓝筹股强势格局不同，周五，A股市场主要指数低开之后...</td>\n",
       "      <td>{\"type\":\"市场\",\"site\":\"中证网\",\"commentNum\":\"0\",\"jo...</td>\n",
       "      <td>中证午评：A股跳水 蓝筹暂歇热点熄火</td>\n",
       "      <td>http://www.cs.com.cn/gppd/201706/t20170623_533...</td>\n",
       "    </tr>\n",
       "    <tr>\n",
       "      <th>24</th>\n",
       "      <td>89593</td>\n",
       "      <td>屠震林 PS040</td>\n",
       "      <td>凤凰体育</td>\n",
       "      <td>北京时间6月20日，江苏苏宁足球俱乐部发布了足协杯第四轮江苏苏宁易购队主场对阵河南建业队的官...</td>\n",
       "      <td>{\"type\":\"体育\",\"site\":\"凤凰\",\"commentNum\":\"1\",\"joi...</td>\n",
       "      <td>“齐心协力”--江苏苏宁发布足协杯对阵河南建业海报</td>\n",
       "      <td>http://sports.ifeng.com/a/20170620/51284188_0....</td>\n",
       "    </tr>\n",
       "    <tr>\n",
       "      <th>25</th>\n",
       "      <td>89592</td>\n",
       "      <td>NaN</td>\n",
       "      <td>新华网</td>\n",
       "      <td>当地时间2017年6月17日，土耳其马尼萨省，在土耳其第1步兵训练大队司令部军营，590名土...</td>\n",
       "      <td>{\"type\":\"国际新闻\",\"site\":\"环球\",\"commentNum\":\"0\",\"j...</td>\n",
       "      <td>土耳其近590名士兵疑食物中毒 被送往医院救治（组图）</td>\n",
       "      <td>http://world.huanqiu.com/hot/2017-06/10866176....</td>\n",
       "    </tr>\n",
       "    <tr>\n",
       "      <th>26</th>\n",
       "      <td>89591</td>\n",
       "      <td>NaN</td>\n",
       "      <td>雷锋网@</td>\n",
       "      <td>今年3月份，王劲从百度自动驾驶事业部任上离职，随后创办景驰科技。在随后的日子里，景驰很快组建...</td>\n",
       "      <td>{\"type\":\"科技\",\"site\":\"cnbeta\",\"commentNum\":\"4\",...</td>\n",
       "      <td>又一自动驾驶公司拿加州路测牌照 这回是王劲的景驰</td>\n",
       "      <td>http://www.cnbeta.com/articles/tech/623609.htm</td>\n",
       "    </tr>\n",
       "    <tr>\n",
       "      <th>27</th>\n",
       "      <td>89590</td>\n",
       "      <td>NaN</td>\n",
       "      <td>新华网</td>\n",
       "      <td>英国与欧盟的“脱欧”谈判于19日正式开始。然而此时，英国首相特雷莎·梅正面临着空前的政治压力...</td>\n",
       "      <td>{\"type\":\"国际新闻\",\"site\":\"环球\",\"commentNum\":\"0\",\"j...</td>\n",
       "      <td>火灾与脱欧炙烤英国首相 特雷莎·梅面临空前政治压力</td>\n",
       "      <td>http://world.huanqiu.com/hot/2017-06/10866198....</td>\n",
       "    </tr>\n",
       "    <tr>\n",
       "      <th>28</th>\n",
       "      <td>89589</td>\n",
       "      <td>NaN</td>\n",
       "      <td>中超球评</td>\n",
       "      <td>中超联赛第13轮比赛已经全部结束，这轮比赛中最让人觉得结果有些出乎意料的，莫过于卡佩罗执教江...</td>\n",
       "      <td>{\"type\":\"体育\",\"site\":\"凤凰\",\"commentNum\":\"0\",\"joi...</td>\n",
       "      <td>江苏保级真悬了 近3年1铁律证明其几乎保级无望</td>\n",
       "      <td>http://sports.ifeng.com/a/20170620/51284719_0....</td>\n",
       "    </tr>\n",
       "    <tr>\n",
       "      <th>29</th>\n",
       "      <td>89588</td>\n",
       "      <td>NaN</td>\n",
       "      <td>中国经济周刊</td>\n",
       "      <td>文章导读： 供应商围堵追债、20多位高管离职、上千人被裁员、孤注一掷史上最大规模的降价…...</td>\n",
       "      <td>{\"type\":\"科技\",\"site\":\"新浪\",\"commentNum\":\" 6\",\"jo...</td>\n",
       "      <td>乐视危局：靠卖资产续命 员工被猎头大规模拉黑</td>\n",
       "      <td>http://tech.sina.com.cn/i/2017-06-20/doc-ifyhf...</td>\n",
       "    </tr>\n",
       "    <tr>\n",
       "      <th>...</th>\n",
       "      <td>...</td>\n",
       "      <td>...</td>\n",
       "      <td>...</td>\n",
       "      <td>...</td>\n",
       "      <td>...</td>\n",
       "      <td>...</td>\n",
       "      <td>...</td>\n",
       "    </tr>\n",
       "    <tr>\n",
       "      <th>89581</th>\n",
       "      <td>30</td>\n",
       "      <td>INACIO ROSA</td>\n",
       "      <td>新华社</td>\n",
       "      <td>新华社照片，外代，2017年6月7日\\n（外代二线）足球——世预赛：葡萄牙备战\\n6月6日，...</td>\n",
       "      <td>{\"type\":\"足球\",\"site\":\"新华社\",\"url\":\"http://home.x...</td>\n",
       "      <td>[2]（外代二线）足球——世预赛：葡萄牙备战</td>\n",
       "      <td>http://home.xinhua-news.com/gdsdetailxhsnew/22...</td>\n",
       "    </tr>\n",
       "    <tr>\n",
       "      <th>89582</th>\n",
       "      <td>29</td>\n",
       "      <td>INACIO ROSA</td>\n",
       "      <td>新华社</td>\n",
       "      <td>新华社照片，外代，2017年6月7日\\n（外代二线）足球——世预赛：葡萄牙备战\\n6月6日，...</td>\n",
       "      <td>{\"type\":\"足球\",\"site\":\"新华社\",\"url\":\"http://home.x...</td>\n",
       "      <td>[3]（外代二线）足球——世预赛：葡萄牙备战</td>\n",
       "      <td>http://home.xinhua-news.com/gdsdetailxhsnew/22...</td>\n",
       "    </tr>\n",
       "    <tr>\n",
       "      <th>89583</th>\n",
       "      <td>28</td>\n",
       "      <td>INACIO ROSA</td>\n",
       "      <td>新华社</td>\n",
       "      <td>新华社照片，外代，2017年6月7日\\n（外代二线）足球——世预赛：葡萄牙备战\\n6月6日，...</td>\n",
       "      <td>{\"type\":\"足球\",\"site\":\"新华社\",\"url\":\"http://home.x...</td>\n",
       "      <td>[4]（外代二线）足球——世预赛：葡萄牙备战</td>\n",
       "      <td>http://home.xinhua-news.com/gdsdetailxhsnew/22...</td>\n",
       "    </tr>\n",
       "    <tr>\n",
       "      <th>89584</th>\n",
       "      <td>27</td>\n",
       "      <td>INACIO ROSA</td>\n",
       "      <td>新华社</td>\n",
       "      <td>新华社照片，外代，2017年6月7日\\n（外代二线）足球——世预赛：葡萄牙备战\\n6月6日，...</td>\n",
       "      <td>{\"type\":\"足球\",\"site\":\"新华社\",\"url\":\"http://home.x...</td>\n",
       "      <td>[5]（外代二线）足球——世预赛：葡萄牙备战</td>\n",
       "      <td>http://home.xinhua-news.com/gdsdetailxhsnew/22...</td>\n",
       "    </tr>\n",
       "    <tr>\n",
       "      <th>89585</th>\n",
       "      <td>26</td>\n",
       "      <td>INACIO ROSA</td>\n",
       "      <td>新华社</td>\n",
       "      <td>新华社照片，外代，2017年6月7日\\n（外代二线）足球——世预赛：葡萄牙备战\\n6月6日，...</td>\n",
       "      <td>{\"type\":\"足球\",\"site\":\"新华社\",\"url\":\"http://home.x...</td>\n",
       "      <td>[6]（外代二线）足球——世预赛：葡萄牙备战</td>\n",
       "      <td>http://home.xinhua-news.com/gdsdetailxhsnew/22...</td>\n",
       "    </tr>\n",
       "    <tr>\n",
       "      <th>89586</th>\n",
       "      <td>25</td>\n",
       "      <td>INACIO ROSA</td>\n",
       "      <td>新华社</td>\n",
       "      <td>新华社照片，外代，2017年6月7日\\n（外代二线）足球——世预赛：葡萄牙备战\\n6月6日，...</td>\n",
       "      <td>{\"type\":\"足球\",\"site\":\"新华社\",\"url\":\"http://home.x...</td>\n",
       "      <td>[7]（外代二线）足球——世预赛：葡萄牙备战</td>\n",
       "      <td>http://home.xinhua-news.com/gdsdetailxhsnew/22...</td>\n",
       "    </tr>\n",
       "    <tr>\n",
       "      <th>89587</th>\n",
       "      <td>24</td>\n",
       "      <td>LOVELY GHOSH</td>\n",
       "      <td>新华社</td>\n",
       "      <td>新华社照片，外代，2017年6月7日\\n（外代二线）蚕丝生产\\n6月6日，在印度特里普拉邦特...</td>\n",
       "      <td>{\"type\":\"其它\",\"site\":\"新华社\",\"url\":\"http://home.x...</td>\n",
       "      <td>[1]（外代二线）蚕丝生产</td>\n",
       "      <td>http://home.xinhua-news.com/gdsdetailxhsnew/22...</td>\n",
       "    </tr>\n",
       "    <tr>\n",
       "      <th>89588</th>\n",
       "      <td>23</td>\n",
       "      <td>LOVELY GHOSH</td>\n",
       "      <td>新华社</td>\n",
       "      <td>新华社照片，外代，2017年6月7日\\n（外代二线）蚕丝生产\\n6月6日，在印度特里普拉邦特...</td>\n",
       "      <td>{\"type\":\"其它\",\"site\":\"新华社\",\"url\":\"http://home.x...</td>\n",
       "      <td>[2]（外代二线）蚕丝生产</td>\n",
       "      <td>http://home.xinhua-news.com/gdsdetailxhsnew/22...</td>\n",
       "    </tr>\n",
       "    <tr>\n",
       "      <th>89589</th>\n",
       "      <td>22</td>\n",
       "      <td>LOVELY GHOSH</td>\n",
       "      <td>新华社</td>\n",
       "      <td>新华社照片，外代，2017年6月7日\\n（外代二线）蚕丝生产\\n5月30日，在印度特里普拉邦...</td>\n",
       "      <td>{\"type\":\"其它\",\"site\":\"新华社\",\"url\":\"http://home.x...</td>\n",
       "      <td>[3]（外代二线）蚕丝生产</td>\n",
       "      <td>http://home.xinhua-news.com/gdsdetailxhsnew/22...</td>\n",
       "    </tr>\n",
       "    <tr>\n",
       "      <th>89590</th>\n",
       "      <td>21</td>\n",
       "      <td>LOVELY GHOSH</td>\n",
       "      <td>新华社</td>\n",
       "      <td>新华社照片，外代，2017年6月7日\\n（外代二线）蚕丝生产\\n6月6日，在印度特里普拉邦特...</td>\n",
       "      <td>{\"type\":\"其它\",\"site\":\"新华社\",\"url\":\"http://home.x...</td>\n",
       "      <td>[4]（外代二线）蚕丝生产</td>\n",
       "      <td>http://home.xinhua-news.com/gdsdetailxhsnew/22...</td>\n",
       "    </tr>\n",
       "    <tr>\n",
       "      <th>89591</th>\n",
       "      <td>20</td>\n",
       "      <td>LOVELY GHOSH</td>\n",
       "      <td>新华社</td>\n",
       "      <td>新华社照片，外代，2017年6月7日\\n（外代二线）蚕丝生产\\n5月30日，在印度特里普拉邦...</td>\n",
       "      <td>{\"type\":\"其它\",\"site\":\"新华社\",\"url\":\"http://home.x...</td>\n",
       "      <td>[5]（外代二线）蚕丝生产</td>\n",
       "      <td>http://home.xinhua-news.com/gdsdetailxhsnew/22...</td>\n",
       "    </tr>\n",
       "    <tr>\n",
       "      <th>89592</th>\n",
       "      <td>19</td>\n",
       "      <td>张旌</td>\n",
       "      <td>新华社</td>\n",
       "      <td>\\n\\n2017年4月27日，在首尔光化门广场，民众在集会上手举反“萨德”标语。（新华社记者...</td>\n",
       "      <td>{\"type\":\"其它\",\"site\":\"新华社\",\"url\":\"http://home.x...</td>\n",
       "      <td>“萨德”环评将重启　在韩部署或推迟一年</td>\n",
       "      <td>http://home.xinhua-news.com/gdsdetailxhsnew/22...</td>\n",
       "    </tr>\n",
       "    <tr>\n",
       "      <th>89593</th>\n",
       "      <td>18</td>\n",
       "      <td>NaN</td>\n",
       "      <td>新华社</td>\n",
       "      <td>\\n新华社巴格达6月6日电（记者魏玉栋　程帅朋）伊拉克西部安巴尔省一处市场6日晚发生自杀式爆...</td>\n",
       "      <td>{\"type\":\"其它\",\"site\":\"新华社\",\"url\":\"http://home.x...</td>\n",
       "      <td>伊拉克安巴尔省发生自杀式袭击７人死亡</td>\n",
       "      <td>http://home.xinhua-news.com/gdsdetailxhsnew/22...</td>\n",
       "    </tr>\n",
       "    <tr>\n",
       "      <th>89594</th>\n",
       "      <td>17</td>\n",
       "      <td>LISELOTTE SABROE</td>\n",
       "      <td>新华社</td>\n",
       "      <td>新华社照片，外代，2017年6月7日\\n（外代二线）足球——国际友谊赛：德国平丹麦\\n6月6...</td>\n",
       "      <td>{\"type\":\"足球\",\"site\":\"新华社\",\"url\":\"http://home.x...</td>\n",
       "      <td>[1]（外代二线）足球——国际友谊赛：德国平丹麦</td>\n",
       "      <td>http://home.xinhua-news.com/gdsdetailxhsnew/22...</td>\n",
       "    </tr>\n",
       "    <tr>\n",
       "      <th>89595</th>\n",
       "      <td>16</td>\n",
       "      <td>LISELOTTE SABROE</td>\n",
       "      <td>新华社</td>\n",
       "      <td>新华社照片，外代，2017年6月7日\\n（外代二线）足球——国际友谊赛：德国平丹麦\\n6月6...</td>\n",
       "      <td>{\"type\":\"足球\",\"site\":\"新华社\",\"url\":\"http://home.x...</td>\n",
       "      <td>[3]（外代二线）足球——国际友谊赛：德国平丹麦</td>\n",
       "      <td>http://home.xinhua-news.com/gdsdetailxhsnew/22...</td>\n",
       "    </tr>\n",
       "    <tr>\n",
       "      <th>89596</th>\n",
       "      <td>15</td>\n",
       "      <td>LISELOTTE SABROE</td>\n",
       "      <td>新华社</td>\n",
       "      <td>新华社照片，外代，2017年6月7日\\n（外代二线）足球——国际友谊赛：德国平丹麦\\n6月6...</td>\n",
       "      <td>{\"type\":\"足球\",\"site\":\"新华社\",\"url\":\"http://home.x...</td>\n",
       "      <td>[2]（外代二线）足球——国际友谊赛：德国平丹麦</td>\n",
       "      <td>http://home.xinhua-news.com/gdsdetailxhsnew/22...</td>\n",
       "    </tr>\n",
       "    <tr>\n",
       "      <th>89597</th>\n",
       "      <td>14</td>\n",
       "      <td>LISELOTTE SABROE</td>\n",
       "      <td>新华社</td>\n",
       "      <td>新华社照片，外代，2017年6月7日\\n（外代二线）足球——国际友谊赛：德国平丹麦\\n6月6...</td>\n",
       "      <td>{\"type\":\"足球\",\"site\":\"新华社\",\"url\":\"http://home.x...</td>\n",
       "      <td>[4]（外代二线）足球——国际友谊赛：德国平丹麦</td>\n",
       "      <td>http://home.xinhua-news.com/gdsdetailxhsnew/22...</td>\n",
       "    </tr>\n",
       "    <tr>\n",
       "      <th>89598</th>\n",
       "      <td>13</td>\n",
       "      <td>LISELOTTE SABROE</td>\n",
       "      <td>新华社</td>\n",
       "      <td>新华社照片，外代，2017年6月7日\\n（外代二线）足球——国际友谊赛：德国平丹麦\\n6月6...</td>\n",
       "      <td>{\"type\":\"足球\",\"site\":\"新华社\",\"url\":\"http://home.x...</td>\n",
       "      <td>[6]（外代二线）足球——国际友谊赛：德国平丹麦</td>\n",
       "      <td>http://home.xinhua-news.com/gdsdetailxhsnew/22...</td>\n",
       "    </tr>\n",
       "    <tr>\n",
       "      <th>89599</th>\n",
       "      <td>12</td>\n",
       "      <td>LISELOTTE SABROE</td>\n",
       "      <td>新华社</td>\n",
       "      <td>新华社照片，外代，2017年6月7日\\n（外代二线）足球——国际友谊赛：德国平丹麦\\n6月6...</td>\n",
       "      <td>{\"type\":\"足球\",\"site\":\"新华社\",\"url\":\"http://home.x...</td>\n",
       "      <td>[5]（外代二线）足球——国际友谊赛：德国平丹麦</td>\n",
       "      <td>http://home.xinhua-news.com/gdsdetailxhsnew/22...</td>\n",
       "    </tr>\n",
       "    <tr>\n",
       "      <th>89600</th>\n",
       "      <td>11</td>\n",
       "      <td>LISELOTTE SABROE</td>\n",
       "      <td>新华社</td>\n",
       "      <td>新华社照片，外代，2017年6月7日\\n（外代二线）足球——国际友谊赛：德国平丹麦\\n6月6...</td>\n",
       "      <td>{\"type\":\"足球\",\"site\":\"新华社\",\"url\":\"http://home.x...</td>\n",
       "      <td>[8]（外代二线）足球——国际友谊赛：德国平丹麦</td>\n",
       "      <td>http://home.xinhua-news.com/gdsdetailxhsnew/22...</td>\n",
       "    </tr>\n",
       "    <tr>\n",
       "      <th>89601</th>\n",
       "      <td>10</td>\n",
       "      <td>LISELOTTE SABROE</td>\n",
       "      <td>新华社</td>\n",
       "      <td>新华社照片，外代，2017年6月7日\\n（外代二线）足球——国际友谊赛：德国平丹麦\\n6月6...</td>\n",
       "      <td>{\"type\":\"足球\",\"site\":\"新华社\",\"url\":\"http://home.x...</td>\n",
       "      <td>[7]（外代二线）足球——国际友谊赛：德国平丹麦</td>\n",
       "      <td>http://home.xinhua-news.com/gdsdetailxhsnew/22...</td>\n",
       "    </tr>\n",
       "    <tr>\n",
       "      <th>89602</th>\n",
       "      <td>9</td>\n",
       "      <td>LISELOTTE SABROE</td>\n",
       "      <td>新华社</td>\n",
       "      <td>新华社照片，外代，2017年6月7日\\n（外代二线）足球——国际友谊赛：德国平丹麦\\n6月6...</td>\n",
       "      <td>{\"type\":\"足球\",\"site\":\"新华社\",\"url\":\"http://home.x...</td>\n",
       "      <td>[9]（外代二线）足球——国际友谊赛：德国平丹麦</td>\n",
       "      <td>http://home.xinhua-news.com/gdsdetailxhsnew/22...</td>\n",
       "    </tr>\n",
       "    <tr>\n",
       "      <th>89603</th>\n",
       "      <td>8</td>\n",
       "      <td>郑焕松</td>\n",
       "      <td>新华社</td>\n",
       "      <td>新华社照片，北京，2017年6月7日\\n电影《血战湘江》举行清华大学巡映活动\\n6月6日，电...</td>\n",
       "      <td>{\"type\":\"社会\",\"site\":\"新华社\",\"url\":\"http://home.x...</td>\n",
       "      <td>（文化）（1）电影《血战湘江》举行清华大学巡映活动</td>\n",
       "      <td>http://home.xinhua-news.com/gdsdetailxhsnew/22...</td>\n",
       "    </tr>\n",
       "    <tr>\n",
       "      <th>89604</th>\n",
       "      <td>7</td>\n",
       "      <td>郑焕松</td>\n",
       "      <td>新华社</td>\n",
       "      <td>新华社照片，北京，2017年6月7日\\n电影《血战湘江》举行清华大学巡映活动\\n6月6日，清...</td>\n",
       "      <td>{\"type\":\"社会\",\"site\":\"新华社\",\"url\":\"http://home.x...</td>\n",
       "      <td>（文化）（2）电影《血战湘江》举行清华大学巡映活动</td>\n",
       "      <td>http://home.xinhua-news.com/gdsdetailxhsnew/22...</td>\n",
       "    </tr>\n",
       "    <tr>\n",
       "      <th>89605</th>\n",
       "      <td>6</td>\n",
       "      <td>郑焕松</td>\n",
       "      <td>新华社</td>\n",
       "      <td>新华社照片，北京，2017年6月7日\\n电影《血战湘江》举行清华大学巡映活动\\n6月6日，电...</td>\n",
       "      <td>{\"type\":\"社会\",\"site\":\"新华社\",\"url\":\"http://home.x...</td>\n",
       "      <td>（文化）（3）电影《血战湘江》举行清华大学巡映活动</td>\n",
       "      <td>http://home.xinhua-news.com/gdsdetailxhsnew/22...</td>\n",
       "    </tr>\n",
       "    <tr>\n",
       "      <th>89606</th>\n",
       "      <td>5</td>\n",
       "      <td>邹峥</td>\n",
       "      <td>新华社</td>\n",
       "      <td>新华社照片，多伦多，2017年6月7日\\n（体育）（2）冰球——国家女子冰球队海外选秀在多伦...</td>\n",
       "      <td>{\"type\":\"冰球\",\"site\":\"新华社\",\"url\":\"http://home.x...</td>\n",
       "      <td>（体育）（2）冰球——国家女子冰球队海外选秀在多伦多展开</td>\n",
       "      <td>http://home.xinhua-news.com/gdsdetailxhsnew/22...</td>\n",
       "    </tr>\n",
       "    <tr>\n",
       "      <th>89607</th>\n",
       "      <td>4</td>\n",
       "      <td>王衡</td>\n",
       "      <td>新华社</td>\n",
       "      <td>新华社兰州6月3日电（王衡、徐丹）记者从甘肃省交通运输厅获悉，甘肃近日集中开建高速公路、普通...</td>\n",
       "      <td>{\"type\":\"宏观经济\",\"site\":\"新华社\",\"url\":\"http://home...</td>\n",
       "      <td>（经济）甘肃集中开工35个重点交通建设项目</td>\n",
       "      <td>http://home.xinhua-news.com/gdsdetailxhsnew/22...</td>\n",
       "    </tr>\n",
       "    <tr>\n",
       "      <th>89608</th>\n",
       "      <td>3</td>\n",
       "      <td>张旌</td>\n",
       "      <td>新华社</td>\n",
       "      <td>\\n\\n2017年5月29日，在法国巴黎郊外的凡尔赛宫，法国总统马克龙出席新闻发布会。（新华...</td>\n",
       "      <td>{\"type\":\"其它\",\"site\":\"新华社\",\"url\":\"http://home.x...</td>\n",
       "      <td>法国议会选举　马克龙有望获“压倒性胜利”</td>\n",
       "      <td>http://home.xinhua-news.com/gdsdetailxhsnew/22...</td>\n",
       "    </tr>\n",
       "    <tr>\n",
       "      <th>89609</th>\n",
       "      <td>2</td>\n",
       "      <td>夏文辉</td>\n",
       "      <td>新华社</td>\n",
       "      <td>\\n\\n2017年5月25日，在美国马萨诸塞州剑桥市，哈佛大学毕业生在毕业典礼上欢呼。（新华...</td>\n",
       "      <td>{\"type\":\"其它\",\"site\":\"新华社\",\"url\":\"http://home.x...</td>\n",
       "      <td>哈佛大学为何取消这些新生入选资格？</td>\n",
       "      <td>http://home.xinhua-news.com/gdsdetailxhsnew/22...</td>\n",
       "    </tr>\n",
       "    <tr>\n",
       "      <th>89610</th>\n",
       "      <td>1</td>\n",
       "      <td>王子江 张寒</td>\n",
       "      <td>新华社</td>\n",
       "      <td>新华社德国杜塞尔多夫６月６日电题：乒乓女球迷　\\n　　新华社记者王子江、张寒\\n　　熊老...</td>\n",
       "      <td>{\"type\":\"体育\",\"site\":\"新华社\",\"url\":\"http://home.x...</td>\n",
       "      <td>（体育）题：乒乓女球迷</td>\n",
       "      <td>http://home.xinhua-news.com/gdsdetailxhsnew/22...</td>\n",
       "    </tr>\n",
       "  </tbody>\n",
       "</table>\n",
       "<p>89611 rows × 7 columns</p>\n",
       "</div>"
      ],
      "text/plain": [
       "          id            author                    source  \\\n",
       "0      89617               NaN    快科技@http://www.kkj.cn/   \n",
       "1      89616               NaN    快科技@http://www.kkj.cn/   \n",
       "2      89615               NaN    快科技@http://www.kkj.cn/   \n",
       "3      89614               NaN                       新华社   \n",
       "4      89613        胡淑丽_MN7479                     深圳大件事   \n",
       "5      89612                张怡                 中国证券报?中证网   \n",
       "6      89611               NaN  威锋网@http://www.feng.com/   \n",
       "7      89610            申玉彬 整理                 中国证券报?中证网   \n",
       "8      89609        李杭_BJS4645                 荆楚网-楚天都市报   \n",
       "9      89608                吴瞬                 中国证券报?中证网   \n",
       "10     89607               NaN                     证券时报网   \n",
       "11     89606               NaN                     证券时报网   \n",
       "12     89605               NaN                     中国新闻网   \n",
       "13     89604            申玉彬 整理                 中国证券报?中证网   \n",
       "14     89603               NaN                      国际在线   \n",
       "15     89602               费天元                     中国证券网   \n",
       "16     89601               NaN                  solidot@   \n",
       "17     89600               NaN                       新华网   \n",
       "18     89599                张怡                 中国证券报?中证网   \n",
       "19     89598             周佳 整理                 中国证券报?中证网   \n",
       "20     89597               NaN                       泡泡网   \n",
       "21     89596             周佳 整理                 中国证券报?中证网   \n",
       "22     89595               NaN  威锋网@http://www.feng.com/   \n",
       "23     89594                张怡                 中国证券报?中证网   \n",
       "24     89593         屠震林 PS040                      凤凰体育   \n",
       "25     89592               NaN                       新华网   \n",
       "26     89591               NaN                      雷锋网@   \n",
       "27     89590               NaN                       新华网   \n",
       "28     89589               NaN                      中超球评   \n",
       "29     89588               NaN                    中国经济周刊   \n",
       "...      ...               ...                       ...   \n",
       "89581     30       INACIO ROSA                       新华社   \n",
       "89582     29       INACIO ROSA                       新华社   \n",
       "89583     28       INACIO ROSA                       新华社   \n",
       "89584     27       INACIO ROSA                       新华社   \n",
       "89585     26       INACIO ROSA                       新华社   \n",
       "89586     25       INACIO ROSA                       新华社   \n",
       "89587     24      LOVELY GHOSH                       新华社   \n",
       "89588     23      LOVELY GHOSH                       新华社   \n",
       "89589     22      LOVELY GHOSH                       新华社   \n",
       "89590     21      LOVELY GHOSH                       新华社   \n",
       "89591     20      LOVELY GHOSH                       新华社   \n",
       "89592     19                张旌                       新华社   \n",
       "89593     18               NaN                       新华社   \n",
       "89594     17  LISELOTTE SABROE                       新华社   \n",
       "89595     16  LISELOTTE SABROE                       新华社   \n",
       "89596     15  LISELOTTE SABROE                       新华社   \n",
       "89597     14  LISELOTTE SABROE                       新华社   \n",
       "89598     13  LISELOTTE SABROE                       新华社   \n",
       "89599     12  LISELOTTE SABROE                       新华社   \n",
       "89600     11  LISELOTTE SABROE                       新华社   \n",
       "89601     10  LISELOTTE SABROE                       新华社   \n",
       "89602      9  LISELOTTE SABROE                       新华社   \n",
       "89603      8               郑焕松                       新华社   \n",
       "89604      7               郑焕松                       新华社   \n",
       "89605      6               郑焕松                       新华社   \n",
       "89606      5                邹峥                       新华社   \n",
       "89607      4                王衡                       新华社   \n",
       "89608      3                张旌                       新华社   \n",
       "89609      2               夏文辉                       新华社   \n",
       "89610      1            王子江 张寒                       新华社   \n",
       "\n",
       "                                                 content  \\\n",
       "0      此外，自本周（6月12日）起，除小米手机6等15款机型外，其余机型已暂停更新发布（含开发版/...   \n",
       "1      骁龙835作为唯一通过Windows 10桌面平台认证的ARM处理器，高通强调，不会因为只考...   \n",
       "2      此前的一加3T搭载的是3400mAh电池，DashCharge快充规格为5V/4A。\\n至于...   \n",
       "3          这是6月18日在葡萄牙中部大佩德罗冈地区拍摄的被森林大火烧毁的汽车。新华社记者张立云摄\\n   \n",
       "4      （原标题：44岁女子跑深圳约会网友被拒，暴雨中裸身奔走……）\\n@深圳交警微博称：昨日清晨交...   \n",
       "5      　　受到A股被纳入MSCI指数的利好消息刺激，A股市场从周三开始再度上演龙马行情，周四上午金...   \n",
       "6      虽然至今夏普智能手机在市场上无法排得上号，已经完全没落，并于 2013 年退出中国市场，但是...   \n",
       "7      　　沙漠雄鹰：震荡有利消化套牢筹码\\n　　周四开盘上证50在银行券商大蓝筹带动下一度涨近2%...   \n",
       "8      （原标题：武汉警方一下子抓了808人，还都是俊男靓女！原来他们每天偷偷摸摸干这事！）\\n武汉...   \n",
       "9      　　6月21日，A股纳入MSCI指数尘埃落定，但当天被寄予厚望的券商股并未扛起反弹大旗。22...   \n",
       "10     　　证券时报网（www.stcn.com）06月23日讯\\n　　据上证报道，6月初以来，创业...   \n",
       "11     ?\\n　　巨丰早评：市场将再次探底\\n　　【巨丰观点】\\n　　周四大盘冲高回落，2500余只...   \n",
       "12     中新网6月19日电 据外媒报道，美国底特律一名男子1976年因为一根头发被定谋杀罪，监禁41...   \n",
       "13     　　曹先生：风格转换前的阵痛\\n　　今日早盘两地低开，之后一度震荡走高，领涨的仍然是上证50...   \n",
       "14     6月21日，MSCI在官网发布公告称，从明年6月起将中国A股纳入MSCI新兴市场指数和MSC...   \n",
       "15     　　中国证券网讯（记者 费天元）沪深两市周五临近午盘出现快速跳水，沪指连续跌穿5日、10日及...   \n",
       "16     九成以上的源包用逐位对应的方式构建，未来版本的 Debian 还将提供验证包的工具和元数据；...   \n",
       "17     国歌法草案首次提请最高立法机关审议\\n点击图片进入下一页\\n新闻：十二届全国人大常委会第二十...   \n",
       "18     　　中证网讯 （本报记者 张怡）今日，三板做市指数继续低开下行，盘中最低触及1057.91点...   \n",
       "19     　　提示声明：\\n　　本文涉及的行业及个股分析来源于券商研究报告，仅为分析人士对该行业及个股...   \n",
       "20     　　原标题：叙利亚被“袭机”事件惹怒俄罗斯 警告将瞄准美战机\\n　　海外网6月19日电 当地...   \n",
       "21     　　提示声明：\\n　　本文涉及的行业及个股分析来源于券商研究报告，仅为分析人士对该行业及个股...   \n",
       "22     就在这几天，一位微博名为“摩卡 RQ ”的手机、芯片、移动互联网三界知名独立评论人爆料称，O...   \n",
       "23     　　中证网讯 （本报记者 张怡）与此前两日蓝筹股强势格局不同，周五，A股市场主要指数低开之后...   \n",
       "24     北京时间6月20日，江苏苏宁足球俱乐部发布了足协杯第四轮江苏苏宁易购队主场对阵河南建业队的官...   \n",
       "25     当地时间2017年6月17日，土耳其马尼萨省，在土耳其第1步兵训练大队司令部军营，590名土...   \n",
       "26     今年3月份，王劲从百度自动驾驶事业部任上离职，随后创办景驰科技。在随后的日子里，景驰很快组建...   \n",
       "27     英国与欧盟的“脱欧”谈判于19日正式开始。然而此时，英国首相特雷莎·梅正面临着空前的政治压力...   \n",
       "28     中超联赛第13轮比赛已经全部结束，这轮比赛中最让人觉得结果有些出乎意料的，莫过于卡佩罗执教江...   \n",
       "29     　　文章导读： 供应商围堵追债、20多位高管离职、上千人被裁员、孤注一掷史上最大规模的降价…...   \n",
       "...                                                  ...   \n",
       "89581  新华社照片，外代，2017年6月7日\\n（外代二线）足球——世预赛：葡萄牙备战\\n6月6日，...   \n",
       "89582  新华社照片，外代，2017年6月7日\\n（外代二线）足球——世预赛：葡萄牙备战\\n6月6日，...   \n",
       "89583  新华社照片，外代，2017年6月7日\\n（外代二线）足球——世预赛：葡萄牙备战\\n6月6日，...   \n",
       "89584  新华社照片，外代，2017年6月7日\\n（外代二线）足球——世预赛：葡萄牙备战\\n6月6日，...   \n",
       "89585  新华社照片，外代，2017年6月7日\\n（外代二线）足球——世预赛：葡萄牙备战\\n6月6日，...   \n",
       "89586  新华社照片，外代，2017年6月7日\\n（外代二线）足球——世预赛：葡萄牙备战\\n6月6日，...   \n",
       "89587  新华社照片，外代，2017年6月7日\\n（外代二线）蚕丝生产\\n6月6日，在印度特里普拉邦特...   \n",
       "89588  新华社照片，外代，2017年6月7日\\n（外代二线）蚕丝生产\\n6月6日，在印度特里普拉邦特...   \n",
       "89589  新华社照片，外代，2017年6月7日\\n（外代二线）蚕丝生产\\n5月30日，在印度特里普拉邦...   \n",
       "89590  新华社照片，外代，2017年6月7日\\n（外代二线）蚕丝生产\\n6月6日，在印度特里普拉邦特...   \n",
       "89591  新华社照片，外代，2017年6月7日\\n（外代二线）蚕丝生产\\n5月30日，在印度特里普拉邦...   \n",
       "89592  \\n\\n2017年4月27日，在首尔光化门广场，民众在集会上手举反“萨德”标语。（新华社记者...   \n",
       "89593  \\n新华社巴格达6月6日电（记者魏玉栋　程帅朋）伊拉克西部安巴尔省一处市场6日晚发生自杀式爆...   \n",
       "89594  新华社照片，外代，2017年6月7日\\n（外代二线）足球——国际友谊赛：德国平丹麦\\n6月6...   \n",
       "89595  新华社照片，外代，2017年6月7日\\n（外代二线）足球——国际友谊赛：德国平丹麦\\n6月6...   \n",
       "89596  新华社照片，外代，2017年6月7日\\n（外代二线）足球——国际友谊赛：德国平丹麦\\n6月6...   \n",
       "89597  新华社照片，外代，2017年6月7日\\n（外代二线）足球——国际友谊赛：德国平丹麦\\n6月6...   \n",
       "89598  新华社照片，外代，2017年6月7日\\n（外代二线）足球——国际友谊赛：德国平丹麦\\n6月6...   \n",
       "89599  新华社照片，外代，2017年6月7日\\n（外代二线）足球——国际友谊赛：德国平丹麦\\n6月6...   \n",
       "89600  新华社照片，外代，2017年6月7日\\n（外代二线）足球——国际友谊赛：德国平丹麦\\n6月6...   \n",
       "89601  新华社照片，外代，2017年6月7日\\n（外代二线）足球——国际友谊赛：德国平丹麦\\n6月6...   \n",
       "89602  新华社照片，外代，2017年6月7日\\n（外代二线）足球——国际友谊赛：德国平丹麦\\n6月6...   \n",
       "89603  新华社照片，北京，2017年6月7日\\n电影《血战湘江》举行清华大学巡映活动\\n6月6日，电...   \n",
       "89604  新华社照片，北京，2017年6月7日\\n电影《血战湘江》举行清华大学巡映活动\\n6月6日，清...   \n",
       "89605  新华社照片，北京，2017年6月7日\\n电影《血战湘江》举行清华大学巡映活动\\n6月6日，电...   \n",
       "89606  新华社照片，多伦多，2017年6月7日\\n（体育）（2）冰球——国家女子冰球队海外选秀在多伦...   \n",
       "89607  新华社兰州6月3日电（王衡、徐丹）记者从甘肃省交通运输厅获悉，甘肃近日集中开建高速公路、普通...   \n",
       "89608  \\n\\n2017年5月29日，在法国巴黎郊外的凡尔赛宫，法国总统马克龙出席新闻发布会。（新华...   \n",
       "89609  \\n\\n2017年5月25日，在美国马萨诸塞州剑桥市，哈佛大学毕业生在毕业典礼上欢呼。（新华...   \n",
       "89610  　　新华社德国杜塞尔多夫６月６日电题：乒乓女球迷　\\n　　新华社记者王子江、张寒\\n　　熊老...   \n",
       "\n",
       "                                                 feature  \\\n",
       "0      {\"type\":\"科技\",\"site\":\"cnbeta\",\"commentNum\":\"37\"...   \n",
       "1      {\"type\":\"科技\",\"site\":\"cnbeta\",\"commentNum\":\"15\"...   \n",
       "2      {\"type\":\"科技\",\"site\":\"cnbeta\",\"commentNum\":\"18\"...   \n",
       "3      {\"type\":\"国际新闻\",\"site\":\"环球\",\"commentNum\":\"0\",\"j...   \n",
       "4      {\"type\":\"新闻\",\"site\":\"网易热门\",\"commentNum\":\"978\",...   \n",
       "5      {\"type\":\"市场\",\"site\":\"中证网\",\"commentNum\":\"0\",\"jo...   \n",
       "6      {\"type\":\"科技\",\"site\":\"cnbeta\",\"commentNum\":\"21\"...   \n",
       "7      {\"type\":\"市场\",\"site\":\"中证网\",\"commentNum\":\"0\",\"jo...   \n",
       "8      {\"type\":\"新闻\",\"site\":\"网易热门\",\"commentNum\":\"1600\"...   \n",
       "9      {\"type\":\"市场\",\"site\":\"中证网\",\"commentNum\":\"0\",\"jo...   \n",
       "10     {\"type\":\"市场\",\"site\":\"中证网\",\"commentNum\":\"0\",\"jo...   \n",
       "11     {\"type\":\"市场\",\"site\":\"中证网\",\"commentNum\":\"0\",\"jo...   \n",
       "12     {\"type\":\"国际新闻\",\"site\":\"环球\",\"commentNum\":\"0\",\"j...   \n",
       "13     {\"type\":\"市场\",\"site\":\"中证网\",\"commentNum\":\"0\",\"jo...   \n",
       "14     {\"type\":\"观点滚动\",\"site\":\"参考消息\",\"commentNum\":\"0\",...   \n",
       "15     {\"type\":\"市场\",\"site\":\"中证网\",\"commentNum\":\"0\",\"jo...   \n",
       "16     {\"type\":\"软件\",\"site\":\"cnbeta\",\"commentNum\":\"12\"...   \n",
       "17     {\"type\":\"观点滚动\",\"site\":\"参考消息\",\"commentNum\":\"0\",...   \n",
       "18     {\"type\":\"市场\",\"site\":\"中证网\",\"commentNum\":\"0\",\"jo...   \n",
       "19     {\"type\":\"市场\",\"site\":\"中证网\",\"commentNum\":\"0\",\"jo...   \n",
       "20     {\"type\":\"军事\",\"site\":\"新浪\",\"commentNum\":\" 95\",\"j...   \n",
       "21     {\"type\":\"市场\",\"site\":\"中证网\",\"commentNum\":\"0\",\"jo...   \n",
       "22     {\"type\":\"科技\",\"site\":\"cnbeta\",\"commentNum\":\"56\"...   \n",
       "23     {\"type\":\"市场\",\"site\":\"中证网\",\"commentNum\":\"0\",\"jo...   \n",
       "24     {\"type\":\"体育\",\"site\":\"凤凰\",\"commentNum\":\"1\",\"joi...   \n",
       "25     {\"type\":\"国际新闻\",\"site\":\"环球\",\"commentNum\":\"0\",\"j...   \n",
       "26     {\"type\":\"科技\",\"site\":\"cnbeta\",\"commentNum\":\"4\",...   \n",
       "27     {\"type\":\"国际新闻\",\"site\":\"环球\",\"commentNum\":\"0\",\"j...   \n",
       "28     {\"type\":\"体育\",\"site\":\"凤凰\",\"commentNum\":\"0\",\"joi...   \n",
       "29     {\"type\":\"科技\",\"site\":\"新浪\",\"commentNum\":\" 6\",\"jo...   \n",
       "...                                                  ...   \n",
       "89581  {\"type\":\"足球\",\"site\":\"新华社\",\"url\":\"http://home.x...   \n",
       "89582  {\"type\":\"足球\",\"site\":\"新华社\",\"url\":\"http://home.x...   \n",
       "89583  {\"type\":\"足球\",\"site\":\"新华社\",\"url\":\"http://home.x...   \n",
       "89584  {\"type\":\"足球\",\"site\":\"新华社\",\"url\":\"http://home.x...   \n",
       "89585  {\"type\":\"足球\",\"site\":\"新华社\",\"url\":\"http://home.x...   \n",
       "89586  {\"type\":\"足球\",\"site\":\"新华社\",\"url\":\"http://home.x...   \n",
       "89587  {\"type\":\"其它\",\"site\":\"新华社\",\"url\":\"http://home.x...   \n",
       "89588  {\"type\":\"其它\",\"site\":\"新华社\",\"url\":\"http://home.x...   \n",
       "89589  {\"type\":\"其它\",\"site\":\"新华社\",\"url\":\"http://home.x...   \n",
       "89590  {\"type\":\"其它\",\"site\":\"新华社\",\"url\":\"http://home.x...   \n",
       "89591  {\"type\":\"其它\",\"site\":\"新华社\",\"url\":\"http://home.x...   \n",
       "89592  {\"type\":\"其它\",\"site\":\"新华社\",\"url\":\"http://home.x...   \n",
       "89593  {\"type\":\"其它\",\"site\":\"新华社\",\"url\":\"http://home.x...   \n",
       "89594  {\"type\":\"足球\",\"site\":\"新华社\",\"url\":\"http://home.x...   \n",
       "89595  {\"type\":\"足球\",\"site\":\"新华社\",\"url\":\"http://home.x...   \n",
       "89596  {\"type\":\"足球\",\"site\":\"新华社\",\"url\":\"http://home.x...   \n",
       "89597  {\"type\":\"足球\",\"site\":\"新华社\",\"url\":\"http://home.x...   \n",
       "89598  {\"type\":\"足球\",\"site\":\"新华社\",\"url\":\"http://home.x...   \n",
       "89599  {\"type\":\"足球\",\"site\":\"新华社\",\"url\":\"http://home.x...   \n",
       "89600  {\"type\":\"足球\",\"site\":\"新华社\",\"url\":\"http://home.x...   \n",
       "89601  {\"type\":\"足球\",\"site\":\"新华社\",\"url\":\"http://home.x...   \n",
       "89602  {\"type\":\"足球\",\"site\":\"新华社\",\"url\":\"http://home.x...   \n",
       "89603  {\"type\":\"社会\",\"site\":\"新华社\",\"url\":\"http://home.x...   \n",
       "89604  {\"type\":\"社会\",\"site\":\"新华社\",\"url\":\"http://home.x...   \n",
       "89605  {\"type\":\"社会\",\"site\":\"新华社\",\"url\":\"http://home.x...   \n",
       "89606  {\"type\":\"冰球\",\"site\":\"新华社\",\"url\":\"http://home.x...   \n",
       "89607  {\"type\":\"宏观经济\",\"site\":\"新华社\",\"url\":\"http://home...   \n",
       "89608  {\"type\":\"其它\",\"site\":\"新华社\",\"url\":\"http://home.x...   \n",
       "89609  {\"type\":\"其它\",\"site\":\"新华社\",\"url\":\"http://home.x...   \n",
       "89610  {\"type\":\"体育\",\"site\":\"新华社\",\"url\":\"http://home.x...   \n",
       "\n",
       "                               title  \\\n",
       "0               小米MIUI 9首批机型曝光：共计15款   \n",
       "1         骁龙835在Windows 10上的性能表现有望改善   \n",
       "2          一加手机5细节曝光：3300mAh、充半小时用1天   \n",
       "3      葡森林火灾造成至少62人死亡 政府宣布进入紧急状态（组图）   \n",
       "4           44岁女子约网友被拒暴雨中裸奔 交警为其披衣相随   \n",
       "5                     金融股一枝独秀 配置价值犹存   \n",
       "6                配骁龙660 全面屏鼻祖夏普新机酝酿中   \n",
       "7                    博友早评：震荡有利消化套牢筹码   \n",
       "8           武汉千余警察出动 抓获808名俊男靓女全是诈骗犯   \n",
       "9                纳入MSCI指数 A股长期配置价值提升   \n",
       "10              私募：蓝筹风格难切换 业绩估值相配是王道   \n",
       "11            早间机构看市：市场将再次探底 两类股逢低布局   \n",
       "12           因为犯罪现场的一根头发，他坐冤狱41年后终获释   \n",
       "13                     博友午评：风格转换前的阵痛   \n",
       "14              MSCI闯关成功会是A股的一针强心剂吗？   \n",
       "15            地产股拉升难阻市场颓势 三大指数早盘集体跳水   \n",
       "16               Debian 9 Stretch 发布   \n",
       "17                 [及时点]我们不需要“百变老太太”   \n",
       "18                新三板午评：三板做市指数刷新阶段低点   \n",
       "19              机构解析：下周热点板块及个股探秘（附股）   \n",
       "20           美军击落叙战机激怒俄罗斯 俄警告将瞄准美军战机   \n",
       "21                   机构推荐：下周具备布局潜力金股   \n",
       "22              业内人士解释为什么OPPO供货能力强无敌   \n",
       "23                中证午评：A股跳水 蓝筹暂歇热点熄火   \n",
       "24         “齐心协力”--江苏苏宁发布足协杯对阵河南建业海报   \n",
       "25       土耳其近590名士兵疑食物中毒 被送往医院救治（组图）   \n",
       "26          又一自动驾驶公司拿加州路测牌照 这回是王劲的景驰   \n",
       "27         火灾与脱欧炙烤英国首相 特雷莎·梅面临空前政治压力   \n",
       "28           江苏保级真悬了 近3年1铁律证明其几乎保级无望   \n",
       "29            乐视危局：靠卖资产续命 员工被猎头大规模拉黑   \n",
       "...                              ...   \n",
       "89581         [2]（外代二线）足球——世预赛：葡萄牙备战   \n",
       "89582         [3]（外代二线）足球——世预赛：葡萄牙备战   \n",
       "89583         [4]（外代二线）足球——世预赛：葡萄牙备战   \n",
       "89584         [5]（外代二线）足球——世预赛：葡萄牙备战   \n",
       "89585         [6]（外代二线）足球——世预赛：葡萄牙备战   \n",
       "89586         [7]（外代二线）足球——世预赛：葡萄牙备战   \n",
       "89587                  [1]（外代二线）蚕丝生产   \n",
       "89588                  [2]（外代二线）蚕丝生产   \n",
       "89589                  [3]（外代二线）蚕丝生产   \n",
       "89590                  [4]（外代二线）蚕丝生产   \n",
       "89591                  [5]（外代二线）蚕丝生产   \n",
       "89592            “萨德”环评将重启　在韩部署或推迟一年   \n",
       "89593             伊拉克安巴尔省发生自杀式袭击７人死亡   \n",
       "89594       [1]（外代二线）足球——国际友谊赛：德国平丹麦   \n",
       "89595       [3]（外代二线）足球——国际友谊赛：德国平丹麦   \n",
       "89596       [2]（外代二线）足球——国际友谊赛：德国平丹麦   \n",
       "89597       [4]（外代二线）足球——国际友谊赛：德国平丹麦   \n",
       "89598       [6]（外代二线）足球——国际友谊赛：德国平丹麦   \n",
       "89599       [5]（外代二线）足球——国际友谊赛：德国平丹麦   \n",
       "89600       [8]（外代二线）足球——国际友谊赛：德国平丹麦   \n",
       "89601       [7]（外代二线）足球——国际友谊赛：德国平丹麦   \n",
       "89602       [9]（外代二线）足球——国际友谊赛：德国平丹麦   \n",
       "89603      （文化）（1）电影《血战湘江》举行清华大学巡映活动   \n",
       "89604      （文化）（2）电影《血战湘江》举行清华大学巡映活动   \n",
       "89605      （文化）（3）电影《血战湘江》举行清华大学巡映活动   \n",
       "89606   （体育）（2）冰球——国家女子冰球队海外选秀在多伦多展开   \n",
       "89607          （经济）甘肃集中开工35个重点交通建设项目   \n",
       "89608           法国议会选举　马克龙有望获“压倒性胜利”   \n",
       "89609              哈佛大学为何取消这些新生入选资格？   \n",
       "89610                   （体育）题：乒乓女球迷　   \n",
       "\n",
       "                                                     url  \n",
       "0         http://www.cnbeta.com/articles/tech/623597.htm  \n",
       "1         http://www.cnbeta.com/articles/tech/623599.htm  \n",
       "2         http://www.cnbeta.com/articles/tech/623601.htm  \n",
       "3      http://world.huanqiu.com/hot/2017-06/10866126....  \n",
       "4      http://news.163.com/17/0618/00/CN617P3Q0001875...  \n",
       "5      http://www.cs.com.cn/gppd/201706/t20170623_533...  \n",
       "6         http://www.cnbeta.com/articles/tech/623603.htm  \n",
       "7      http://www.cs.com.cn/gppd/201706/t20170623_533...  \n",
       "8      http://news.163.com/17/0614/14/CMT9N8G80001899...  \n",
       "9      http://www.cs.com.cn/gppd/201706/t20170623_533...  \n",
       "10     http://www.cs.com.cn/gppd/201706/t20170623_533...  \n",
       "11     http://www.cs.com.cn/gppd/201706/t20170623_533...  \n",
       "12     http://world.huanqiu.com/hot/2017-06/10866136....  \n",
       "13     http://www.cs.com.cn/gppd/201706/t20170623_533...  \n",
       "14     http://column.cankaoxiaoxi.com/plgd/2017/0623/...  \n",
       "15     http://www.cs.com.cn/gppd/201706/t20170623_533...  \n",
       "16        http://www.cnbeta.com/articles/soft/623605.htm  \n",
       "17     http://column.cankaoxiaoxi.com/plgd/2017/0623/...  \n",
       "18     http://www.cs.com.cn/gppd/201706/t20170623_533...  \n",
       "19     http://www.cs.com.cn/gppd/hyyj/201706/t2017062...  \n",
       "20     http://mil.news.sina.com.cn/world/2017-06-20/d...  \n",
       "21     http://www.cs.com.cn/gppd/tzpj/201706/t2017062...  \n",
       "22        http://www.cnbeta.com/articles/tech/623607.htm  \n",
       "23     http://www.cs.com.cn/gppd/201706/t20170623_533...  \n",
       "24     http://sports.ifeng.com/a/20170620/51284188_0....  \n",
       "25     http://world.huanqiu.com/hot/2017-06/10866176....  \n",
       "26        http://www.cnbeta.com/articles/tech/623609.htm  \n",
       "27     http://world.huanqiu.com/hot/2017-06/10866198....  \n",
       "28     http://sports.ifeng.com/a/20170620/51284719_0....  \n",
       "29     http://tech.sina.com.cn/i/2017-06-20/doc-ifyhf...  \n",
       "...                                                  ...  \n",
       "89581  http://home.xinhua-news.com/gdsdetailxhsnew/22...  \n",
       "89582  http://home.xinhua-news.com/gdsdetailxhsnew/22...  \n",
       "89583  http://home.xinhua-news.com/gdsdetailxhsnew/22...  \n",
       "89584  http://home.xinhua-news.com/gdsdetailxhsnew/22...  \n",
       "89585  http://home.xinhua-news.com/gdsdetailxhsnew/22...  \n",
       "89586  http://home.xinhua-news.com/gdsdetailxhsnew/22...  \n",
       "89587  http://home.xinhua-news.com/gdsdetailxhsnew/22...  \n",
       "89588  http://home.xinhua-news.com/gdsdetailxhsnew/22...  \n",
       "89589  http://home.xinhua-news.com/gdsdetailxhsnew/22...  \n",
       "89590  http://home.xinhua-news.com/gdsdetailxhsnew/22...  \n",
       "89591  http://home.xinhua-news.com/gdsdetailxhsnew/22...  \n",
       "89592  http://home.xinhua-news.com/gdsdetailxhsnew/22...  \n",
       "89593  http://home.xinhua-news.com/gdsdetailxhsnew/22...  \n",
       "89594  http://home.xinhua-news.com/gdsdetailxhsnew/22...  \n",
       "89595  http://home.xinhua-news.com/gdsdetailxhsnew/22...  \n",
       "89596  http://home.xinhua-news.com/gdsdetailxhsnew/22...  \n",
       "89597  http://home.xinhua-news.com/gdsdetailxhsnew/22...  \n",
       "89598  http://home.xinhua-news.com/gdsdetailxhsnew/22...  \n",
       "89599  http://home.xinhua-news.com/gdsdetailxhsnew/22...  \n",
       "89600  http://home.xinhua-news.com/gdsdetailxhsnew/22...  \n",
       "89601  http://home.xinhua-news.com/gdsdetailxhsnew/22...  \n",
       "89602  http://home.xinhua-news.com/gdsdetailxhsnew/22...  \n",
       "89603  http://home.xinhua-news.com/gdsdetailxhsnew/22...  \n",
       "89604  http://home.xinhua-news.com/gdsdetailxhsnew/22...  \n",
       "89605  http://home.xinhua-news.com/gdsdetailxhsnew/22...  \n",
       "89606  http://home.xinhua-news.com/gdsdetailxhsnew/22...  \n",
       "89607  http://home.xinhua-news.com/gdsdetailxhsnew/22...  \n",
       "89608  http://home.xinhua-news.com/gdsdetailxhsnew/22...  \n",
       "89609  http://home.xinhua-news.com/gdsdetailxhsnew/22...  \n",
       "89610  http://home.xinhua-news.com/gdsdetailxhsnew/22...  \n",
       "\n",
       "[89611 rows x 7 columns]"
      ]
     },
     "execution_count": 9,
     "metadata": {},
     "output_type": "execute_result"
    }
   ],
   "source": [
    "df"
   ]
  },
  {
   "cell_type": "code",
   "execution_count": 10,
   "metadata": {},
   "outputs": [
    {
     "data": {
      "text/plain": [
       "新华社                                                              78661\n",
       "微博                                                                2477\n",
       "中国证券报?中证网                                                          538\n",
       "中国新闻网                                                              525\n",
       "参考消息网                                                              385\n",
       "环球网                                                                308\n",
       "南方日报第01版                                                           278\n",
       "中国台湾网                                                              233\n",
       "央广网                                                                197\n",
       "新华网                                                                172\n",
       "新浪体育                                                               132\n",
       "人民网                                                                122\n",
       "环球时报                                                               119\n",
       "中国经济网                                                               96\n",
       "参考军事                                                                95\n",
       "央视网                                                                 94\n",
       "证券时报网                                                               84\n",
       "cnBeta.COM                                                          82\n",
       "中国证券网                                                               80\n",
       "环球时报-环球网                                                            73\n",
       "广州日报第01版                                                            64\n",
       "中国网财经                                                               61\n",
       "每日经济新闻                                                              58\n",
       "海南日报第001版                                                           54\n",
       "澎湃新闻网                                                               54\n",
       "证券日报                                                                51\n",
       "证券时报                                                                51\n",
       "21世纪经济报道                                                            51\n",
       "凤凰体育                                                                49\n",
       "凤凰网娱乐                                                               48\n",
       "                                                                 ...  \n",
       "绯色侃球                                                                 1\n",
       "中国汽车报网                                                               1\n",
       "野马财经                                                                 1\n",
       "伊犁晚报                                                                 1\n",
       "重案组37号                                                               1\n",
       "阳郊网警                                                                 1\n",
       "跑否金融 微信公众号                                                           1\n",
       "中华网                                                                  1\n",
       "安徽高清                                                                 1\n",
       "广州市政府                                                                1\n",
       "单刀赴会                                                                 1\n",
       "搜狐科技@http://www.sohu.com/a/150107740_115565?qq-pf-to=pcqq.c2c        1\n",
       "国防科工局                                                                1\n",
       "网址之家                                                                 1\n",
       "gzw.net                                                              1\n",
       "雷帝触网                                                                 1\n",
       "曲一刀                                                                  1\n",
       "健康时报                                                                 1\n",
       "中国科技网                                                                1\n",
       "老邓侃球                                                                 1\n",
       "新华社@                                                                 1\n",
       "中芯国际集成电路制造有限公司                                                       1\n",
       "安卓中国@https://www.anzhuo.cn/news/p_19910                              1\n",
       "新华社@http://tech.163.com/17/0619/15/CNA7J2EJ00097U7T.html             1\n",
       "英才                                                                   1\n",
       "央视新闻客户端@                                                             1\n",
       "豆丁                                                                   1\n",
       "篮球迷俱乐部                                                               1\n",
       "齐鲁晚报网                                                                1\n",
       "金羊网                                                                  1\n",
       "Name: source, Length: 974, dtype: int64"
      ]
     },
     "execution_count": 10,
     "metadata": {},
     "output_type": "execute_result"
    }
   ],
   "source": [
    "df['source'].value_counts()"
   ]
  },
  {
   "cell_type": "markdown",
   "metadata": {},
   "source": [
    "## 数据清洗：删除x为空或者y为空的数据"
   ]
  },
  {
   "cell_type": "code",
   "execution_count": 17,
   "metadata": {},
   "outputs": [
    {
     "data": {
      "text/plain": [
       "False    87054\n",
       "True      2557\n",
       "Name: content, dtype: int64"
      ]
     },
     "execution_count": 17,
     "metadata": {},
     "output_type": "execute_result"
    }
   ],
   "source": [
    "df['content'].isna().value_counts()"
   ]
  },
  {
   "cell_type": "code",
   "execution_count": 22,
   "metadata": {},
   "outputs": [],
   "source": [
    "df = df[df['content'].notna()]"
   ]
  },
  {
   "cell_type": "code",
   "execution_count": 23,
   "metadata": {},
   "outputs": [
    {
     "data": {
      "text/plain": [
       "False    87054\n",
       "Name: content, dtype: int64"
      ]
     },
     "execution_count": 23,
     "metadata": {},
     "output_type": "execute_result"
    }
   ],
   "source": [
    "df['content'].isna().value_counts()"
   ]
  },
  {
   "cell_type": "code",
   "execution_count": 25,
   "metadata": {},
   "outputs": [
    {
     "data": {
      "text/plain": [
       "False    87052\n",
       "True         2\n",
       "Name: source, dtype: int64"
      ]
     },
     "execution_count": 25,
     "metadata": {},
     "output_type": "execute_result"
    }
   ],
   "source": [
    "df['source'].isna().value_counts()"
   ]
  },
  {
   "cell_type": "code",
   "execution_count": 26,
   "metadata": {},
   "outputs": [],
   "source": [
    "df = df[df['source'].notna()]"
   ]
  },
  {
   "cell_type": "code",
   "execution_count": 27,
   "metadata": {},
   "outputs": [
    {
     "data": {
      "text/plain": [
       "False    87052\n",
       "Name: source, dtype: int64"
      ]
     },
     "execution_count": 27,
     "metadata": {},
     "output_type": "execute_result"
    }
   ],
   "source": [
    "df['source'].isna().value_counts()"
   ]
  },
  {
   "cell_type": "code",
   "execution_count": null,
   "metadata": {},
   "outputs": [],
   "source": []
  },
  {
   "cell_type": "code",
   "execution_count": 28,
   "metadata": {},
   "outputs": [
    {
     "data": {
      "text/plain": [
       "新华社                                                          78661\n",
       "中国新闻网                                                          523\n",
       "中国证券报?中证网                                                      510\n",
       "参考消息网                                                          385\n",
       "环球网                                                            308\n",
       "南方日报第01版                                                       270\n",
       "中国台湾网                                                          232\n",
       "央广网                                                            194\n",
       "新华网                                                            172\n",
       "新浪体育                                                           132\n",
       "人民网                                                            122\n",
       "环球时报                                                           119\n",
       "中国经济网                                                           96\n",
       "参考军事                                                            95\n",
       "央视网                                                             94\n",
       "证券时报网                                                           84\n",
       "cnBeta.COM                                                      82\n",
       "中国证券网                                                           80\n",
       "环球时报-环球网                                                        73\n",
       "广州日报第01版                                                        64\n",
       "中国网财经                                                           61\n",
       "每日经济新闻                                                          58\n",
       "澎湃新闻网                                                           54\n",
       "证券日报                                                            51\n",
       "21世纪经济报道                                                        51\n",
       "证券时报                                                            51\n",
       "凤凰体育                                                            49\n",
       "上海证券报                                                           48\n",
       "凤凰网娱乐                                                           48\n",
       "海南日报第001版                                                       45\n",
       "                                                             ...  \n",
       "肆客足球                                                             1\n",
       "盖世汽车综合                                                           1\n",
       "德江网                                                              1\n",
       "中国甘肃网                                                            1\n",
       "湖北日报第28版                                                         1\n",
       "广州日报第H2版                                                         1\n",
       "长江网-武汉晨报                                                         1\n",
       "作者                                                               1\n",
       "长江日报@http://tech.163.com/17/0620/15/CNCQ35FV00097U82.html        1\n",
       "1818黄金眼                                                          1\n",
       "大洋网                                                              1\n",
       "和信投顾                                                             1\n",
       "重庆时间                                                             1\n",
       "电影大爆炸                                                            1\n",
       "好网角网络收藏夹                                                         1\n",
       "@胖子孙越微博                                                          1\n",
       "金华政府门户网站                                                         1\n",
       "人民网-安徽频道                                                         1\n",
       "长江日报第17版                                                         1\n",
       "证券市场周刊?红周刊                                                       1\n",
       "谈资                                                               1\n",
       "昭苏零距离                                                            1\n",
       "一手Video                                                          1\n",
       "新浪财经@                                                            1\n",
       "IT之家                                                             1\n",
       "易米云通                                                             1\n",
       "七牛云                                                              1\n",
       "伊吾零距离                                                            1\n",
       "大众证券报                                                            1\n",
       "网贷之家                                                             1\n",
       "Name: source, Length: 971, dtype: int64"
      ]
     },
     "execution_count": 28,
     "metadata": {},
     "output_type": "execute_result"
    }
   ],
   "source": [
    "df['source'].value_counts()"
   ]
  },
  {
   "cell_type": "code",
   "execution_count": 29,
   "metadata": {},
   "outputs": [
    {
     "data": {
      "text/plain": [
       "id         87052\n",
       "author     76925\n",
       "source     87052\n",
       "content    87052\n",
       "feature    87052\n",
       "title      87052\n",
       "url        87052\n",
       "dtype: int64"
      ]
     },
     "execution_count": 29,
     "metadata": {},
     "output_type": "execute_result"
    }
   ],
   "source": [
    "df.count()"
   ]
  },
  {
   "cell_type": "markdown",
   "metadata": {},
   "source": [
    "## 准备数据"
   ]
  },
  {
   "cell_type": "code",
   "execution_count": 31,
   "metadata": {},
   "outputs": [],
   "source": [
    "x = np.asarray(df['content'])\n",
    "y = np.zeros((x.shape[0]))\n",
    "y[df['content'].str.contains('新华社')] = 1"
   ]
  },
  {
   "cell_type": "code",
   "execution_count": 192,
   "metadata": {},
   "outputs": [],
   "source": [
    "from sklearn.cross_validation import train_test_split\n",
    "x_train, x_test, y_train, y_test = train_test_split(x, y, test_size = 0.3)"
   ]
  },
  {
   "cell_type": "markdown",
   "metadata": {},
   "source": [
    "## 训练\n",
    "不同新闻机构有不同的写作风格，会有不同的常用词。依据词频，用朴素贝叶斯分类器，计算概率。手动实现算法。"
   ]
  },
  {
   "cell_type": "code",
   "execution_count": 193,
   "metadata": {},
   "outputs": [],
   "source": [
    "import jieba\n",
    "import re\n",
    "from collections import Counter\n",
    "from tqdm import tqdm"
   ]
  },
  {
   "cell_type": "code",
   "execution_count": 194,
   "metadata": {},
   "outputs": [],
   "source": [
    "def get_count(data):\n",
    "    TOKEN = []\n",
    "    for text in tqdm(data):\n",
    "        # 过滤所有汉字\n",
    "        TOKEN += jieba.cut(''.join(re.findall('[\\u4e00-\\u9fa5]+', text)))\n",
    "    return Counter(TOKEN), len(TOKEN)\n",
    "        "
   ]
  },
  {
   "cell_type": "code",
   "execution_count": 195,
   "metadata": {},
   "outputs": [
    {
     "name": "stderr",
     "output_type": "stream",
     "text": [
      "100%|███████████████████████████████████████████████████████████████████████████| 53959/53959 [01:14<00:00, 726.35it/s]\n"
     ]
    }
   ],
   "source": [
    "pos_count, pos_total = get_count(x_train[y_train==1])"
   ]
  },
  {
   "cell_type": "code",
   "execution_count": 196,
   "metadata": {},
   "outputs": [
    {
     "data": {
      "text/plain": [
       "[('的', 353357),\n",
       " ('在', 148320),\n",
       " ('新华社', 99499),\n",
       " ('月', 72841),\n",
       " ('和', 69923),\n",
       " ('日', 69492),\n",
       " ('了', 57757),\n",
       " ('外代', 56953),\n",
       " ('是', 50873),\n",
       " ('中', 43518),\n",
       " ('二线', 42350),\n",
       " ('年月日', 42061),\n",
       " ('中国', 40676),\n",
       " ('记者', 38697),\n",
       " ('照片', 36358),\n",
       " ('将', 32431),\n",
       " ('与', 31089),\n",
       " ('年', 30058),\n",
       " ('等', 29609),\n",
       " ('为', 28500)]"
      ]
     },
     "execution_count": 196,
     "metadata": {},
     "output_type": "execute_result"
    }
   ],
   "source": [
    "pos_count.most_common(20)"
   ]
  },
  {
   "cell_type": "code",
   "execution_count": 197,
   "metadata": {},
   "outputs": [
    {
     "name": "stderr",
     "output_type": "stream",
     "text": [
      "100%|█████████████████████████████████████████████████████████████████████████████| 6977/6977 [00:25<00:00, 271.82it/s]\n"
     ]
    }
   ],
   "source": [
    "neg_count, neg_total = get_count(x_train[y_train==0])"
   ]
  },
  {
   "cell_type": "code",
   "execution_count": 198,
   "metadata": {},
   "outputs": [
    {
     "data": {
      "text/plain": [
       "[('的', 139366),\n",
       " ('在', 35876),\n",
       " ('了', 27831),\n",
       " ('和', 23401),\n",
       " ('是', 22507),\n",
       " ('月', 11755),\n",
       " ('也', 11688),\n",
       " ('有', 10585),\n",
       " ('等', 10581),\n",
       " ('为', 10560),\n",
       " ('将', 10419),\n",
       " ('年', 9758),\n",
       " ('与', 9637),\n",
       " ('对', 9555),\n",
       " ('中国', 8943),\n",
       " ('日', 8566),\n",
       " ('中', 8234),\n",
       " ('上', 7654),\n",
       " ('不', 7416),\n",
       " ('他', 7150)]"
      ]
     },
     "execution_count": 198,
     "metadata": {},
     "output_type": "execute_result"
    }
   ],
   "source": [
    "neg_count.most_common(20)"
   ]
  },
  {
   "cell_type": "code",
   "execution_count": 199,
   "metadata": {},
   "outputs": [],
   "source": [
    "# 正样本概率\n",
    "pos_prob = y_train.sum()/len(y_train)\n",
    "# 负样本概率\n",
    "neg_prob = 1 - pos_prob"
   ]
  },
  {
   "cell_type": "code",
   "execution_count": 228,
   "metadata": {},
   "outputs": [],
   "source": [
    "def cal_probs(data, pos_count, pos_prob, pos_total, neg_count, neg_prob, neg_total):\n",
    "    probs = np.zeros((data.shape[0], 2))\n",
    "    for i in tqdm(range(len(data))):\n",
    "        # 过滤所有汉字\n",
    "        TOKEN = jieba.lcut(''.join(re.findall('[\\u4e00-\\u9fa5]+', data[i])))\n",
    "        # 计算正样本概率\n",
    "        prob = np.log(pos_prob)\n",
    "        for t in TOKEN:\n",
    "            prob += np.log((pos_count[t] + 1) / (pos_total + len(pos_count) + len(neg_count)))\n",
    "        probs[i][1] = prob\n",
    "        # 计算负样本概率\n",
    "        prob = np.log(neg_prob)\n",
    "        for t in TOKEN:\n",
    "            prob += np.log((neg_count[t] + 1) / (neg_total + len(pos_count) + len(neg_count)))\n",
    "        probs[i][0] = prob\n",
    "    return probs"
   ]
  },
  {
   "cell_type": "code",
   "execution_count": 206,
   "metadata": {},
   "outputs": [
    {
     "name": "stderr",
     "output_type": "stream",
     "text": [
      "100%|███████████████████████████████████████████████████████████████████████████| 26116/26116 [00:50<00:00, 515.00it/s]\n"
     ]
    }
   ],
   "source": [
    "probs = cal_probs(x_test, pos_count, pos_prob, pos_total, neg_count, neg_prob, neg_total)"
   ]
  },
  {
   "cell_type": "code",
   "execution_count": 207,
   "metadata": {},
   "outputs": [],
   "source": [
    "y_pre = probs.argmax(axis=1)"
   ]
  },
  {
   "cell_type": "code",
   "execution_count": 208,
   "metadata": {},
   "outputs": [
    {
     "data": {
      "text/plain": [
       "0.9147266043804564"
      ]
     },
     "execution_count": 208,
     "metadata": {},
     "output_type": "execute_result"
    }
   ],
   "source": [
    "accuracy = sum(y_test == y_pre) / len(y_pre)\n",
    "accuracy"
   ]
  },
  {
   "cell_type": "markdown",
   "metadata": {},
   "source": [
    "测试集中有88.55%是正样本，就是说全部猜测是正样本也有88.55%的正确率，所以模型预测的正确率91.47%不太高，比胡猜的效果好那么一点儿。"
   ]
  },
  {
   "cell_type": "code",
   "execution_count": 204,
   "metadata": {},
   "outputs": [
    {
     "data": {
      "text/plain": [
       "0.8855028226335828"
      ]
     },
     "execution_count": 204,
     "metadata": {},
     "output_type": "execute_result"
    }
   ],
   "source": [
    "y_train.sum()/len(y_train)"
   ]
  },
  {
   "cell_type": "markdown",
   "metadata": {},
   "source": [
    "## sklearn实现"
   ]
  },
  {
   "cell_type": "code",
   "execution_count": 276,
   "metadata": {},
   "outputs": [],
   "source": [
    "from sklearn.cross_validation import train_test_split\n",
    "from sklearn.feature_extraction.text import CountVectorizer, TfidfVectorizer\n",
    "from sklearn.naive_bayes import MultinomialNB\n",
    "from sklearn.metrics import classification_report, confusion_matrix"
   ]
  },
  {
   "cell_type": "code",
   "execution_count": 258,
   "metadata": {},
   "outputs": [],
   "source": [
    "# 预处理数据，空格分隔的词语，用于sklean处理\n",
    "x_train_sk = x_train.copy()\n",
    "for i in range(len(x_train_sk)):\n",
    "    x_train_sk[i] = ' '.join(jieba.lcut(''.join(re.findall('[\\u4e00-\\u9fa5]+', x_train_sk[i]))))\n",
    "x_test_sk = x_test.copy()\n",
    "for i in range(len(x_test_sk)):\n",
    "    x_test_sk[i] = ' '.join(jieba.lcut(''.join(re.findall('[\\u4e00-\\u9fa5]+', x_test_sk[i]))))"
   ]
  },
  {
   "cell_type": "code",
   "execution_count": 261,
   "metadata": {},
   "outputs": [],
   "source": [
    "count_vec = CountVectorizer()\n",
    "x_train_count = count_vec.fit_transform(x_train_sk)\n",
    "x_test_count = count_vec.transform(x_test_sk)"
   ]
  },
  {
   "cell_type": "code",
   "execution_count": 262,
   "metadata": {},
   "outputs": [
    {
     "data": {
      "text/plain": [
       "MultinomialNB(alpha=1.0, class_prior=None, fit_prior=True)"
      ]
     },
     "execution_count": 262,
     "metadata": {},
     "output_type": "execute_result"
    }
   ],
   "source": [
    "mnb_count = MultinomialNB()\n",
    "# 训练\n",
    "mnb_count.fit(x_train_count, y_train)"
   ]
  },
  {
   "cell_type": "code",
   "execution_count": 263,
   "metadata": {},
   "outputs": [],
   "source": [
    "# 预测\n",
    "mnb_count_y_predict = mnb_count.predict(x_test_count)   "
   ]
  },
  {
   "cell_type": "code",
   "execution_count": 264,
   "metadata": {},
   "outputs": [
    {
     "data": {
      "text/plain": [
       "array([1., 1., 1., ..., 1., 1., 1.])"
      ]
     },
     "execution_count": 264,
     "metadata": {},
     "output_type": "execute_result"
    }
   ],
   "source": [
    "mnb_count_y_predict"
   ]
  },
  {
   "cell_type": "code",
   "execution_count": 307,
   "metadata": {},
   "outputs": [
    {
     "name": "stdout",
     "output_type": "stream",
     "text": [
      "未去除停用词的CountVectorizer提取的特征学习模型准确率： 0.9150712207076122\n",
      "更加详细的评估指标:\n",
      "              precision    recall  f1-score   support\n",
      "\n",
      "        0.0       0.77      0.60      0.67      3791\n",
      "        1.0       0.93      0.97      0.95     22325\n",
      "\n",
      "avg / total       0.91      0.92      0.91     26116\n",
      "\n"
     ]
    }
   ],
   "source": [
    "# 结果和纯手工算法差不多啊\n",
    "print(\"未去除停用词的CountVectorizer提取的特征学习模型准确率：\", mnb_count.score(x_test_count, y_test))\n",
    "print(\"更加详细的评估指标:\\n\", classification_report(mnb_count_y_predict, y_test))"
   ]
  },
  {
   "cell_type": "code",
   "execution_count": 308,
   "metadata": {},
   "outputs": [
    {
     "name": "stdout",
     "output_type": "stream",
     "text": [
      "[[ 2257   684]\n",
      " [ 1534 21641]]\n"
     ]
    }
   ],
   "source": [
    "cf_matrix = confusion_matrix(y_test, mnb_count_y_predict)\n",
    "print(cf_matrix)"
   ]
  },
  {
   "cell_type": "markdown",
   "metadata": {},
   "source": [
    "## 使用TF-IDF向量"
   ]
  },
  {
   "cell_type": "code",
   "execution_count": 306,
   "metadata": {},
   "outputs": [],
   "source": [
    "tfidf_count_vec = TfidfVectorizer()\n",
    "x_train_tfidf = tfidf_count_vec.fit_transform(x_train_sk)\n",
    "x_test_tfidf = tfidf_count_vec.transform(x_test_sk)"
   ]
  },
  {
   "cell_type": "code",
   "execution_count": 290,
   "metadata": {},
   "outputs": [
    {
     "data": {
      "text/plain": [
       "MultinomialNB(alpha=1.0, class_prior=None, fit_prior=True)"
      ]
     },
     "execution_count": 290,
     "metadata": {},
     "output_type": "execute_result"
    }
   ],
   "source": [
    "mnb_tfid = MultinomialNB()\n",
    "# 训练\n",
    "mnb_tfid.fit(x_train_tfidf, y_train)"
   ]
  },
  {
   "cell_type": "code",
   "execution_count": 302,
   "metadata": {},
   "outputs": [],
   "source": [
    "# 预测\n",
    "mnb_tfid_y_predict = mnb_tfid.predict(x_test_tfidf)"
   ]
  },
  {
   "cell_type": "code",
   "execution_count": 303,
   "metadata": {},
   "outputs": [
    {
     "data": {
      "text/plain": [
       "0.8968065553683565"
      ]
     },
     "execution_count": 303,
     "metadata": {},
     "output_type": "execute_result"
    }
   ],
   "source": [
    "accuracy_3 = sum(y_test == mnb_tfid_y_predict) / len(y_test)\n",
    "accuracy_3"
   ]
  },
  {
   "cell_type": "code",
   "execution_count": 304,
   "metadata": {},
   "outputs": [
    {
     "name": "stdout",
     "output_type": "stream",
     "text": [
      "TfidfVectorizer提取的特征学习模型准确率： 0.8968065553683565\n",
      "更加详细的评估指标:\n",
      "              precision    recall  f1-score   support\n",
      "\n",
      "        0.0       0.08      0.99      0.16       252\n",
      "        1.0       1.00      0.90      0.95     25864\n",
      "\n",
      "avg / total       0.99      0.90      0.94     26116\n",
      "\n"
     ]
    }
   ],
   "source": [
    "# 准确率下降了，尤其是负样本的精度，只有8%\n",
    "print(\"TfidfVectorizer提取的特征学习模型准确率：\", mnb_tfid.score(x_test_tfidf, y_test))\n",
    "print(\"更加详细的评估指标:\\n\", classification_report(mnb_tfid_y_predict, y_test))"
   ]
  },
  {
   "cell_type": "markdown",
   "metadata": {},
   "source": [
    "## 在TF-IDF之上再去掉停用词"
   ]
  },
  {
   "cell_type": "code",
   "execution_count": 296,
   "metadata": {},
   "outputs": [
    {
     "name": "stdout",
     "output_type": "stream",
     "text": [
      "去掉停用词，TfidfVectorizer提取的特征学习模型准确率： 0.8968065553683565\n",
      "更加详细的评估指标:\n",
      "              precision    recall  f1-score   support\n",
      "\n",
      "        0.0       0.08      0.99      0.16       252\n",
      "        1.0       1.00      0.90      0.95     25864\n",
      "\n",
      "avg / total       0.99      0.90      0.94     26116\n",
      "\n"
     ]
    }
   ],
   "source": [
    "stop_words = ['的', '在', '和', '了', '与', '也', '有', '从', '到', '这', '不', '就', \\\n",
    "              '被', '完', '已', '但', '还', '要', '个', '让', '向', '而', '会', '比', '把', '来']\n",
    "tfidf_count_vec = TfidfVectorizer(stop_words=stop_words)\n",
    "x_train_tfidf = tfidf_count_vec.fit_transform(x_train_sk)\n",
    "x_test_tfidf = tfidf_count_vec.transform(x_test_sk)\n",
    "\n",
    "mnb_tfid = MultinomialNB()\n",
    "# 训练\n",
    "mnb_tfid.fit(x_train_tfidf, y_train)\n",
    "# 预测\n",
    "mnb_tfid_y_predict = mnb_tfid.predict(x_test_tfidf)\n",
    "\n",
    "print(\"去掉停用词，TfidfVectorizer提取的特征学习模型准确率：\", mnb_tfid.score(x_test_tfidf, y_test))\n",
    "print(\"更加详细的评估指标:\\n\", classification_report(mnb_tfid_y_predict, y_test))"
   ]
  },
  {
   "cell_type": "code",
   "execution_count": 297,
   "metadata": {},
   "outputs": [
    {
     "name": "stdout",
     "output_type": "stream",
     "text": [
      "[[  249  2692]\n",
      " [    3 23172]]\n"
     ]
    }
   ],
   "source": [
    "# 去了停用词，结果没有任何变化，负样本的错误率还是奇高。预测结果中，正样本的比例高达99%，基本上就是全都判为正样本了。\n",
    "cf_matrix = confusion_matrix(y_test, mnb_tfid_y_predict)\n",
    "print(cf_matrix)"
   ]
  },
  {
   "cell_type": "markdown",
   "metadata": {},
   "source": [
    "### Congratulations! You have completed all assignments in this week. The question below is optional. If you still have time, why don't try it out."
   ]
  },
  {
   "cell_type": "markdown",
   "metadata": {},
   "source": [
    "## Option:"
   ]
  },
  {
   "cell_type": "markdown",
   "metadata": {},
   "source": [
    "#### Try differnt machine learning algorithms with different combinations of parameters in the practical part, and compare their performances (Better use some visualization techiniques)."
   ]
  }
 ],
 "metadata": {
  "kernelspec": {
   "display_name": "Python 3",
   "language": "python",
   "name": "python3"
  },
  "language_info": {
   "codemirror_mode": {
    "name": "ipython",
    "version": 3
   },
   "file_extension": ".py",
   "mimetype": "text/x-python",
   "name": "python",
   "nbconvert_exporter": "python",
   "pygments_lexer": "ipython3",
   "version": "3.6.5"
  }
 },
 "nbformat": 4,
 "nbformat_minor": 2
}
