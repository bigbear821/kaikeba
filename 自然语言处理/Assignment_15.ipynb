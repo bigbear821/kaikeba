{
 "cells": [
  {
   "cell_type": "markdown",
   "metadata": {},
   "source": [
    "1. What’s the relationship of  word embedding and multi-task learning? "
   ]
  },
  {
   "cell_type": "markdown",
   "metadata": {},
   "source": [
    "多任务学习是对于多个相关的任务，同时学习，共享部分底层数据。比如图像分类中的迁移学习，前面的层可以识别纹理、形状等细节，然后可以共享这部分参数，只为后续的其它相关任务训练后面的几层来进行图像分类。对于NLP，多任务学习中共享的底层数据就是词向量，或者说是word embedding。词向量表示了每个词的含义，对于基于神经网络的NLP任务来说就是共享的基础数据。"
   ]
  },
  {
   "cell_type": "markdown",
   "metadata": {},
   "source": [
    "2. Why do we need some super tasks  to make multi-task learning possible? "
   ]
  },
  {
   "cell_type": "markdown",
   "metadata": {},
   "source": [
    "对于NLP来说，大部分任务都会涉及到语义、语法与逻辑的处理。我们需要一些super task来加强算法对这三类问题的处理，这些处理技巧对大部分NLP来说是共通的。在super task中打磨过的这三类问题的处理方式可以很好地应用到其它NLP任务中。"
   ]
  },
  {
   "cell_type": "markdown",
   "metadata": {},
   "source": [
    "3. Why is transfer learning in NLP harder than Computer Vision?"
   ]
  },
  {
   "cell_type": "markdown",
   "metadata": {},
   "source": [
    "图片相对于语言，容错性更强。图片中的少量像素变化，不影响图像的识别。迁移学习中学习到的纹理、形状信息，在一定的误差内，套用到另一类物体的图片类型识别中，精度是可以接受的。然而语言不同，关键词的改变、上下文的不同、符号断句的不同，都能导致相似的句子的含义差异巨大。这种小扰动造成大差异的问题，在图片领域不常见。所以迁移学习在CV领域中容易实现，而在NLP领域中很难。"
   ]
  },
  {
   "cell_type": "markdown",
   "metadata": {},
   "source": [
    "4. What’s the reinforcement learning, and the differences compared to Supervised learning? "
   ]
  },
  {
   "cell_type": "markdown",
   "metadata": {},
   "source": [
    "强化学习是智能体（agent）在与环境的交互过程中通过学习策略以达成回报最大化或实现特定目标的学习方法。监督学习需要在训练前准备好带标签的数据，强化学习不用。强化学习的训练数据是在与环境交互的过程中产生的。强化学习最终会学习到策略函数或者值函数，用以进行行为决策。在学习策略函数或者值函数时，通常会使用深度神经网络。进行这部分的深度神经网络学习时，需要带标签的数据，这一部分可以看作是监督学习。但是这些数据不是事先准备的，而是在程序与环境的交互中自动产生的。"
   ]
  },
  {
   "cell_type": "markdown",
   "metadata": {},
   "source": [
    "5. What’s Graph Neural Network? Note the similarity of word-2-vec"
   ]
  },
  {
   "cell_type": "markdown",
   "metadata": {},
   "source": [
    "图神经网络是一种直接在图形结构上运行的神经网络。 GNN的典型应用是节点分类。GNN与word2vec的相似点是embedding。embedding通常都是把高维的数据映射到低维。GNN的embedding是用低维数据表示节点以及它周边节点的信息，word2vec是用低维数据来表示one-hot形式的单词，并且包含了词之间的关系。"
   ]
  },
  {
   "cell_type": "markdown",
   "metadata": {},
   "source": [
    "6. What’s the semi-supervised learning and activate learning? "
   ]
  },
  {
   "cell_type": "markdown",
   "metadata": {},
   "source": [
    "半监督学习，对于未标注数据而言，是选择最不容易判断错误的样本来加入到已标注数据中，这个过程，是一个自动的过程，是筛选最好的数据的过程，然后不需要互动，不需要人工干预，基于自身对于未标记数据加以利用，来提高学习模型的泛化性能。\n",
    "主动学习，在利用未标注数据的时候，是从未标注数据中找到最容易判断错误的样例来交由专家进行标注，这个过程是一个筛选差数据的过程，也是一个互动交互的过程，引入了额外的专家的知识。"
   ]
  },
  {
   "cell_type": "markdown",
   "metadata": {},
   "source": [
    "7. What’s the problems when AI models became bigger and bigger?"
   ]
  },
  {
   "cell_type": "markdown",
   "metadata": {},
   "source": [
    "模型越大，那么对硬件的要求就越高，就是投资越来越大，进行研究的壁垒就越来越高，研究者的圈子就会变小。"
   ]
  },
  {
   "cell_type": "markdown",
   "metadata": {},
   "source": [
    "8. Please give some scenarios about Adversarial Attacking Examples."
   ]
  },
  {
   "cell_type": "markdown",
   "metadata": {},
   "source": [
    "对抗性攻击的使用场景有：白盒攻击、黑盒攻击、定向攻击、非定向攻击。比如之前阿里举办过图片攻击的比赛，黑盒攻击（不提供模型），参赛者可以选择将图片扰动后识别为非原来类别的其它物体（非定向攻击），或者选择识别为给定类型的另一类物体（定向攻击）。"
   ]
  },
  {
   "cell_type": "markdown",
   "metadata": {},
   "source": [
    "9. Why is common sense reasoning so hard? "
   ]
  },
  {
   "cell_type": "markdown",
   "metadata": {},
   "source": [
    "常识推理依赖于常识。常识目前并没有统一的表示方法，也没有整理出比较全面的数据集。程序的常识不全，自然也就难以进行常识推理。"
   ]
  },
  {
   "attachments": {},
   "cell_type": "markdown",
   "metadata": {},
   "source": [
    "10. 如果你要选择一个细分进行持续研究，你对哪个方面感兴趣？为什么？ "
   ]
  },
  {
   "cell_type": "markdown",
   "metadata": {},
   "source": [
    "我对生成式的问答系统感兴趣。目前业界主要还是使用抽取式。抽取式只是对问题做了匹配，并没有理解问题，更没有理解答案。生成式问答系统除了需要语义的理解，更需要基于知识图谱进行推理。这种推理，如果能在问答系统中运行良好，那也可能推广到其它需要推理的领域。"
   ]
  }
 ],
 "metadata": {
  "kernelspec": {
   "display_name": "Python 3",
   "language": "python",
   "name": "python3"
  },
  "language_info": {
   "codemirror_mode": {
    "name": "ipython",
    "version": 3
   },
   "file_extension": ".py",
   "mimetype": "text/x-python",
   "name": "python",
   "nbconvert_exporter": "python",
   "pygments_lexer": "ipython3",
   "version": "3.6.5"
  }
 },
 "nbformat": 4,
 "nbformat_minor": 2
}
