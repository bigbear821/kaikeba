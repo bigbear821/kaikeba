{
 "cells": [
  {
   "cell_type": "markdown",
   "metadata": {},
   "source": [
    "### 1.复习上课内容。"
   ]
  },
  {
   "cell_type": "markdown",
   "metadata": {},
   "source": [
    "### 2.理论题"
   ]
  },
  {
   "cell_type": "markdown",
   "metadata": {},
   "source": [
    "1. Why we need $\\gamma$ in reinforcement learning ?"
   ]
  },
  {
   "cell_type": "markdown",
   "metadata": {},
   "source": [
    "衰退系数γ相当与给不同时间的奖励设置了权重。γ=1说明每个时刻的奖励同等重要，γ<1则表示现在的奖励比未来的奖励重要。通常来讲，近期的奖励会重要一些。所以γ会小于1。γ小于1还带来另一个好处。G表示未来奖励的累加。对于无限时间序列状态的模型，如果没有衰退系统γ，G就不收敛，无法求出来。有了小于1的γ，G就会收敛。"
   ]
  },
  {
   "cell_type": "markdown",
   "metadata": {},
   "source": [
    "2. Please breifly explain what is value function and what is Q function ?"
   ]
  },
  {
   "cell_type": "markdown",
   "metadata": {},
   "source": [
    "价值函数V等于状态为s时，按照策略π行动后，在未来所获得反馈值G的期望值。  \n",
    "Q函数是动作-价值函数，就是状态为s，采取a动作时后，在未来所获得反馈值G的期望值。  "
   ]
  },
  {
   "cell_type": "markdown",
   "metadata": {},
   "source": [
    "3. How temperal difference related to dynamic programming and monte-carlo methods ?"
   ]
  },
  {
   "cell_type": "markdown",
   "metadata": {},
   "source": [
    "在策略评估阶段，最直接的办法就是基于动态规划来更新价值函数，使用迭代的方法求解贝尔曼方程。然而这个方法有缺陷：  \n",
    "1、需要事先知道状态转移概率  \n",
    "2、无法处理状态集合大小无限的情况  \n",
    "\n",
    "当我们不知道状态转移概率时，就可以采用蒙特卡洛采样的方法来更新价值函数。蒙特卡洛采样就是对下一状态随机取值么，就不用预先知道概率。\n",
    "然而这个方法也有缺陷：  \n",
    "1、状态集合比较大时，采样的轨迹可能非常稀疏，不利于估计期望  \n",
    "2、在实际问题中，最终反馈需要在终止状态才能知晓，导致反馈周期较长  \n",
    "\n",
    "为了克服蒙特卡洛采样方法的缺陷，于是提出了时序差分的方法来更新价值函数。\n",
    "用老的Vπ(s)与新的Vπ(s)的估计值（R+Vπ(s')）之间的差值来更新价值函数。"
   ]
  },
  {
   "cell_type": "markdown",
   "metadata": {},
   "source": [
    "4. Please briefly describe what are value iteration and policy iteration ?"
   ]
  },
  {
   "cell_type": "markdown",
   "metadata": {},
   "source": [
    "值迭代的思路是，计算出动作-价值函数q(s,a)。而策略函数基于q函数来计算，直接取argmax q(s,a)对应的a动作就可以了。循环更新，直到动作-价值函数误差小于阈值。  \n",
    "策略迭代的思路是，先计算值函数，再计算策略函数，循环更新两个函数，直到策略函数稳定。"
   ]
  },
  {
   "cell_type": "markdown",
   "metadata": {},
   "source": [
    "5. How can we use deep lerning in reinforcement learning ?"
   ]
  },
  {
   "cell_type": "markdown",
   "metadata": {},
   "source": [
    "在状态数量太多时， qπ(s,a)函数不可能用一张表来记录，而且有些状态可能始终无法采样到，所以可以用一个基于DL的非线性回归模型来拟合q函数。由于回归函数的连续型，没有探索过的状态也可以通过函数计算出来。损失函数是q的估计值与当前值之间的平方差。"
   ]
  },
  {
   "cell_type": "markdown",
   "metadata": {},
   "source": [
    "### 选做题 （实践）"
   ]
  },
  {
   "cell_type": "code",
   "execution_count": 148,
   "metadata": {},
   "outputs": [],
   "source": [
    "import matplotlib\n",
    "import matplotlib.pyplot as plt\n",
    "import numpy as np\n",
    "from matplotlib.table import Table"
   ]
  },
  {
   "cell_type": "code",
   "execution_count": 149,
   "metadata": {},
   "outputs": [],
   "source": [
    "def draw_image(image):\n",
    "    fig,ax = plt.subplots()\n",
    "    ax.set_axis_off()\n",
    "    tb = Table(ax,bbox=[0,0,1,1])\n",
    "\n",
    "    nrows,ncols = image.shape\n",
    "    width,height = 1.0/ncols,1.0/nrows\n",
    "\n",
    "    for (i,j), val in np.ndenumerate(image):\n",
    "        if (i,j) == (0,1):\n",
    "            val = \"A\"\n",
    "        elif (i,j) == (0,3):\n",
    "            val = \"B\"\n",
    "        elif (i,j) == (4,1):\n",
    "            val = \"A'\"\n",
    "        elif (i,j) == (2,3):\n",
    "            val = \"B'\"\n",
    "        tb.add_cell(i,j,width,height,text=val,\n",
    "                    loc='center',facecolor='white')\n",
    "\n",
    "    for i in range(len(image)):\n",
    "        tb.add_cell(i,-1,width,height,text=i+1,loc='right',\n",
    "                    edgecolor='none',facecolor='none')\n",
    "        tb.add_cell(-1,i,width,height/2,text=i+1,loc='center',\n",
    "                    edgecolor='none',facecolor='none')\n",
    "    ax.add_table(tb)"
   ]
  },
  {
   "cell_type": "code",
   "execution_count": 150,
   "metadata": {},
   "outputs": [
    {
     "data": {
      "image/png": "[encoded data removed]",
      "text/plain": [
       "<Figure size 432x288 with 1 Axes>"
      ]
     },
     "metadata": {},
     "output_type": "display_data"
    }
   ],
   "source": [
    "WORLD_SIZE=5\n",
    "draw_image(np.zeros((WORLD_SIZE,WORLD_SIZE)))"
   ]
  },
  {
   "cell_type": "markdown",
   "metadata": {},
   "source": [
    "Figure above shows a rectangular gridworld. The cell of the grid correspond to the state of the environment. At each cell, four actions with equal probability are possible: north, south, east and west, which deterministically cause the agent to move one cell in the respective direction on the grid. Actions that would take the agent off the grid leave its unchanged, but also result in a reward -1. Other actions result in a reward of 0, expect those taht move the agent out of the special states A and B. From state A, all four actions yield a reward of +10 and take the agent to A'. From state B, all actions yield a reward of +5 and take the agent to B'. "
   ]
  },
  {
   "cell_type": "markdown",
   "metadata": {},
   "source": [
    "#### Try to compute the value of each state ? You can choose any algorithms we leanred in the class.\n",
    "Good luck and happy new year. !!"
   ]
  },
  {
   "cell_type": "code",
   "execution_count": 163,
   "metadata": {},
   "outputs": [],
   "source": [
    "# Vπ(s) = max(qπ(s,a))  \n",
    "# 就是格子的V值取这个状态S的四个动作能导致的最大价值。\n",
    "# 用的是老师的参考代码，就改了几行算法和显示的代码"
   ]
  },
  {
   "cell_type": "code",
   "execution_count": 164,
   "metadata": {},
   "outputs": [],
   "source": [
    "import matplotlib\n",
    "import matplotlib.pyplot as plt\n",
    "import numpy as np\n",
    "from matplotlib.table import Table\n",
    "\n",
    "WORLD_SIZE = 5\n",
    "ACTION_SIZE = 4\n",
    "\n",
    "A_POS = [0,1]\n",
    "A_PRIME_POS = [4,1]\n",
    "B_POS = [0,3]\n",
    "B_PRIME_POS = [2,3]\n",
    "DISCOUNT = 0.9\n",
    "\n",
    "ACTIONS = [np.array([0,-1]),\n",
    "           np.array([-1,0]),\n",
    "           np.array([0,1]),\n",
    "           np.array([1,0])]\n",
    "ACTION_PROB = 0.25\n",
    "\n",
    "def step(state,action):\n",
    "    if state == A_POS:\n",
    "        return A_PRIME_POS,10\n",
    "    if state == B_POS:\n",
    "        return B_PRIME_POS,5\n",
    "    next_state = (np.array(state)+action).tolist()\n",
    "    x,y = next_state\n",
    "    if x < 0 or x >= WORLD_SIZE or \\\n",
    "            y < 0 or y >= WORLD_SIZE:\n",
    "        reward = -1.0\n",
    "        next_state = state\n",
    "    else:\n",
    "        reward = 0\n",
    "    return next_state, reward\n",
    "\n",
    "def draw_image(image):\n",
    "    fig,ax = plt.subplots()\n",
    "    ax.set_axis_off()\n",
    "    tb = Table(ax,bbox=[0,0,1,1])\n",
    "\n",
    "    nrows,ncols,_ = image.shape\n",
    "    width,height = 1.0/ncols,1.0/nrows\n",
    "\n",
    "    for i in range(nrows):\n",
    "        for j in range(ncols):\n",
    "            tb.add_cell(i,j,width,height,text=image[i,j].max(),\n",
    "                        loc='center',facecolor='white')\n",
    "\n",
    "    for i in range(len(image)):\n",
    "        tb.add_cell(i,-1,width,height,text=i+1,loc='right',\n",
    "                    edgecolor='none',facecolor='none')\n",
    "        tb.add_cell(-1,i,width,height/2,text=i+1,loc='center',\n",
    "                    edgecolor='none',facecolor='none')\n",
    "    ax.add_table(tb)\n",
    "    \n",
    "def draw_image_2(image):\n",
    "    fig,ax = plt.subplots(figsize=(9,6))\n",
    "    ax.set_axis_off()\n",
    "    tb = Table(ax,bbox=[0,0,1,1])\n",
    "\n",
    "    nrows,ncols,_ = image.shape\n",
    "    width,height = 1.0/ncols,1.0/nrows\n",
    "\n",
    "    for i in range(nrows):\n",
    "        for j in range(ncols):\n",
    "            a = image[i,j].argmax()\n",
    "            v = image[i,j].max()\n",
    "            text = str(v)\n",
    "            if image[i,j,0] == v:\n",
    "                text = '← ' + text\n",
    "            if image[i,j,2] == v:\n",
    "                text = text + ' →'\n",
    "            if image[i,j,1] == v:\n",
    "                text = '↑\\n' + text\n",
    "            if image[i,j,3] == v:\n",
    "                text = text + '\\n↓'\n",
    "            \n",
    "            tb.add_cell(i,j,width,height,text=text,\n",
    "                        loc='center',facecolor='white')\n",
    "\n",
    "    for i in range(len(image)):\n",
    "        tb.add_cell(i,-1,width,height,text=i+1,loc='right',\n",
    "                    edgecolor='none',facecolor='none')\n",
    "        tb.add_cell(-1,i,width,height/2,text=i+1,loc='center',\n",
    "                    edgecolor='none',facecolor='none')\n",
    "    ax.add_table(tb)"
   ]
  },
  {
   "cell_type": "code",
   "execution_count": 165,
   "metadata": {},
   "outputs": [],
   "source": [
    "def results():\n",
    "    value= np.zeros((WORLD_SIZE,WORLD_SIZE,4))\n",
    "    while True:\n",
    "        new_value = np.zeros_like(value)\n",
    "        for i in range(WORLD_SIZE):\n",
    "            for j in range(WORLD_SIZE):\n",
    "                for a in range(ACTION_SIZE):\n",
    "                    action = ACTIONS[a]\n",
    "                    (next_i,next_J),reward = step([i,j],action)\n",
    "                    new_value[i,j,a] = reward+DISCOUNT*value[next_i,next_J].max()\n",
    "\n",
    "        if np.sum(np.abs(value-new_value)) < 1e-4:\n",
    "            draw_image_2(np.round(new_value,decimals=2))\n",
    "            plt.show()\n",
    "            break\n",
    "        value = new_value"
   ]
  },
  {
   "cell_type": "code",
   "execution_count": 166,
   "metadata": {},
   "outputs": [
    {
     "data": {
      "image/png": "[encoded data removed]",
      "text/plain": [
       "<Figure size 648x432 with 1 Axes>"
      ]
     },
     "metadata": {},
     "output_type": "display_data"
    }
   ],
   "source": [
    "results()"
   ]
  },
  {
   "cell_type": "code",
   "execution_count": null,
   "metadata": {},
   "outputs": [],
   "source": []
  }
 ],
 "metadata": {
  "kernelspec": {
   "display_name": "Python 3",
   "language": "python",
   "name": "python3"
  },
  "language_info": {
   "codemirror_mode": {
    "name": "ipython",
    "version": 3
   },
   "file_extension": ".py",
   "mimetype": "text/x-python",
   "name": "python",
   "nbconvert_exporter": "python",
   "pygments_lexer": "ipython3",
   "version": "3.6.5"
  }
 },
 "nbformat": 4,
 "nbformat_minor": 2
}
